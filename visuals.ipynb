{
 "cells": [
  {
   "cell_type": "code",
   "execution_count": 1,
   "id": "e67d7d04",
   "metadata": {},
   "outputs": [],
   "source": [
    "import plotly.graph_objects as go\n",
    "import pandas as pd\n",
    "import numpy as np\n",
    "import plotly.express as px\n",
    "import seaborn as sns\n",
    "import matplotlib.pyplot as plt\n",
    "from utils import get_rec_table_skinny, get_rec_table_wide, get_player_scatter_vertical, get_player_scatter_horizontal\n",
    "# import nfl_data_py as nfl\n",
    "\n",
    "import warnings\n",
    "warnings.filterwarnings('ignore')"
   ]
  },
  {
   "cell_type": "code",
   "execution_count": 2,
   "id": "7ff2c209",
   "metadata": {},
   "outputs": [],
   "source": [
    "all_data = pd.read_csv(r\"data\\final_data.csv\")"
   ]
  },
  {
   "cell_type": "code",
   "execution_count": 3,
   "id": "404eb77d",
   "metadata": {},
   "outputs": [],
   "source": [
    "###  SELECTBOX\n",
    "\n",
    "player = 'Mike Evans'  # from selectbox\n",
    "all_data = all_data.astype({'season': int})\n",
    "\n",
    "player_all = all_data[(all_data.player_display_name==player)].reset_index(drop=True)\n",
    "player_season = player_all[player_all.season==2023].reset_index(drop=True)\n",
    "player_season2 = player_all[player_all.season > 2021].reset_index(drop=True)\n",
    "\n",
    "line = (player_all.pp_line.mean() + player_all.ud_line.mean())/2\n",
    "title = f\"{player_all.player_display_name[0]}\"\n"
   ]
  },
  {
   "cell_type": "code",
   "execution_count": null,
   "id": "25e3ffeb",
   "metadata": {},
   "outputs": [],
   "source": [
    "title"
   ]
  },
  {
   "cell_type": "code",
   "execution_count": 4,
   "id": "aae043f0",
   "metadata": {},
   "outputs": [
    {
     "data": {
      "text/html": [
       "<style type=\"text/css\">\n",
       "</style>\n",
       "<table id=\"T_8dba4\">\n",
       "  <thead>\n",
       "    <tr>\n",
       "      <th id=\"T_8dba4_level0_col0\" class=\"col_heading level0 col0\" >week</th>\n",
       "      <th id=\"T_8dba4_level0_col1\" class=\"col_heading level0 col1\" >targets</th>\n",
       "      <th id=\"T_8dba4_level0_col2\" class=\"col_heading level0 col2\" >receptions</th>\n",
       "      <th id=\"T_8dba4_level0_col3\" class=\"col_heading level0 col3\" >receiving_tds</th>\n",
       "      <th id=\"T_8dba4_level0_col4\" class=\"col_heading level0 col4\" >fantasy_points</th>\n",
       "    </tr>\n",
       "  </thead>\n",
       "  <tbody>\n",
       "    <tr>\n",
       "      <td id=\"T_8dba4_row0_col0\" class=\"data row0 col0\" >18</td>\n",
       "      <td id=\"T_8dba4_row0_col1\" class=\"data row0 col1\" >8</td>\n",
       "      <td id=\"T_8dba4_row0_col2\" class=\"data row0 col2\" >3</td>\n",
       "      <td id=\"T_8dba4_row0_col3\" class=\"data row0 col3\" >0</td>\n",
       "      <td id=\"T_8dba4_row0_col4\" class=\"data row0 col4\" >2</td>\n",
       "    </tr>\n",
       "    <tr>\n",
       "      <td id=\"T_8dba4_row1_col0\" class=\"data row1 col0\" >17</td>\n",
       "      <td id=\"T_8dba4_row1_col1\" class=\"data row1 col1\" >4</td>\n",
       "      <td id=\"T_8dba4_row1_col2\" class=\"data row1 col2\" >3</td>\n",
       "      <td id=\"T_8dba4_row1_col3\" class=\"data row1 col3\" >0</td>\n",
       "      <td id=\"T_8dba4_row1_col4\" class=\"data row1 col4\" >7</td>\n",
       "    </tr>\n",
       "    <tr>\n",
       "      <td id=\"T_8dba4_row2_col0\" class=\"data row2 col0\" >16</td>\n",
       "      <td id=\"T_8dba4_row2_col1\" class=\"data row2 col1\" >9</td>\n",
       "      <td id=\"T_8dba4_row2_col2\" class=\"data row2 col2\" >7</td>\n",
       "      <td id=\"T_8dba4_row2_col3\" class=\"data row2 col3\" >2</td>\n",
       "      <td id=\"T_8dba4_row2_col4\" class=\"data row2 col4\" >21</td>\n",
       "    </tr>\n",
       "    <tr>\n",
       "      <td id=\"T_8dba4_row3_col0\" class=\"data row3 col0\" >15</td>\n",
       "      <td id=\"T_8dba4_row3_col1\" class=\"data row3 col1\" >6</td>\n",
       "      <td id=\"T_8dba4_row3_col2\" class=\"data row3 col2\" >4</td>\n",
       "      <td id=\"T_8dba4_row3_col3\" class=\"data row3 col3\" >1</td>\n",
       "      <td id=\"T_8dba4_row3_col4\" class=\"data row3 col4\" >12</td>\n",
       "    </tr>\n",
       "    <tr>\n",
       "      <td id=\"T_8dba4_row4_col0\" class=\"data row4 col0\" >14</td>\n",
       "      <td id=\"T_8dba4_row4_col1\" class=\"data row4 col1\" >6</td>\n",
       "      <td id=\"T_8dba4_row4_col2\" class=\"data row4 col2\" >1</td>\n",
       "      <td id=\"T_8dba4_row4_col3\" class=\"data row4 col3\" >0</td>\n",
       "      <td id=\"T_8dba4_row4_col4\" class=\"data row4 col4\" >1</td>\n",
       "    </tr>\n",
       "    <tr>\n",
       "      <td id=\"T_8dba4_row5_col0\" class=\"data row5 col0\" >13</td>\n",
       "      <td id=\"T_8dba4_row5_col1\" class=\"data row5 col1\" >12</td>\n",
       "      <td id=\"T_8dba4_row5_col2\" class=\"data row5 col2\" >7</td>\n",
       "      <td id=\"T_8dba4_row5_col3\" class=\"data row5 col3\" >1</td>\n",
       "      <td id=\"T_8dba4_row5_col4\" class=\"data row5 col4\" >22</td>\n",
       "    </tr>\n",
       "    <tr>\n",
       "      <td id=\"T_8dba4_row6_col0\" class=\"data row6 col0\" >12</td>\n",
       "      <td id=\"T_8dba4_row6_col1\" class=\"data row6 col1\" >9</td>\n",
       "      <td id=\"T_8dba4_row6_col2\" class=\"data row6 col2\" >6</td>\n",
       "      <td id=\"T_8dba4_row6_col3\" class=\"data row6 col3\" >2</td>\n",
       "      <td id=\"T_8dba4_row6_col4\" class=\"data row6 col4\" >19</td>\n",
       "    </tr>\n",
       "    <tr>\n",
       "      <td id=\"T_8dba4_row7_col0\" class=\"data row7 col0\" >11</td>\n",
       "      <td id=\"T_8dba4_row7_col1\" class=\"data row7 col1\" >12</td>\n",
       "      <td id=\"T_8dba4_row7_col2\" class=\"data row7 col2\" >5</td>\n",
       "      <td id=\"T_8dba4_row7_col3\" class=\"data row7 col3\" >1</td>\n",
       "      <td id=\"T_8dba4_row7_col4\" class=\"data row7 col4\" >10</td>\n",
       "    </tr>\n",
       "    <tr>\n",
       "      <td id=\"T_8dba4_row8_col0\" class=\"data row8 col0\" >10</td>\n",
       "      <td id=\"T_8dba4_row8_col1\" class=\"data row8 col1\" >10</td>\n",
       "      <td id=\"T_8dba4_row8_col2\" class=\"data row8 col2\" >6</td>\n",
       "      <td id=\"T_8dba4_row8_col3\" class=\"data row8 col3\" >1</td>\n",
       "      <td id=\"T_8dba4_row8_col4\" class=\"data row8 col4\" >20</td>\n",
       "    </tr>\n",
       "    <tr>\n",
       "      <td id=\"T_8dba4_row9_col0\" class=\"data row9 col0\" >9</td>\n",
       "      <td id=\"T_8dba4_row9_col1\" class=\"data row9 col1\" >5</td>\n",
       "      <td id=\"T_8dba4_row9_col2\" class=\"data row9 col2\" >4</td>\n",
       "      <td id=\"T_8dba4_row9_col3\" class=\"data row9 col3\" >0</td>\n",
       "      <td id=\"T_8dba4_row9_col4\" class=\"data row9 col4\" >9</td>\n",
       "    </tr>\n",
       "    <tr>\n",
       "      <td id=\"T_8dba4_row10_col0\" class=\"data row10 col0\" >8</td>\n",
       "      <td id=\"T_8dba4_row10_col1\" class=\"data row10 col1\" >6</td>\n",
       "      <td id=\"T_8dba4_row10_col2\" class=\"data row10 col2\" >3</td>\n",
       "      <td id=\"T_8dba4_row10_col3\" class=\"data row10 col3\" >1</td>\n",
       "      <td id=\"T_8dba4_row10_col4\" class=\"data row10 col4\" >10</td>\n",
       "    </tr>\n",
       "    <tr>\n",
       "      <td id=\"T_8dba4_row11_col0\" class=\"data row11 col0\" >7</td>\n",
       "      <td id=\"T_8dba4_row11_col1\" class=\"data row11 col1\" >8</td>\n",
       "      <td id=\"T_8dba4_row11_col2\" class=\"data row11 col2\" >6</td>\n",
       "      <td id=\"T_8dba4_row11_col3\" class=\"data row11 col3\" >1</td>\n",
       "      <td id=\"T_8dba4_row11_col4\" class=\"data row11 col4\" >14</td>\n",
       "    </tr>\n",
       "    <tr>\n",
       "      <td id=\"T_8dba4_row12_col0\" class=\"data row12 col0\" >6</td>\n",
       "      <td id=\"T_8dba4_row12_col1\" class=\"data row12 col1\" >10</td>\n",
       "      <td id=\"T_8dba4_row12_col2\" class=\"data row12 col2\" >4</td>\n",
       "      <td id=\"T_8dba4_row12_col3\" class=\"data row12 col3\" >0</td>\n",
       "      <td id=\"T_8dba4_row12_col4\" class=\"data row12 col4\" >5</td>\n",
       "    </tr>\n",
       "    <tr>\n",
       "      <td id=\"T_8dba4_row13_col0\" class=\"data row13 col0\" >4</td>\n",
       "      <td id=\"T_8dba4_row13_col1\" class=\"data row13 col1\" >3</td>\n",
       "      <td id=\"T_8dba4_row13_col2\" class=\"data row13 col2\" >3</td>\n",
       "      <td id=\"T_8dba4_row13_col3\" class=\"data row13 col3\" >0</td>\n",
       "      <td id=\"T_8dba4_row13_col4\" class=\"data row13 col4\" >4</td>\n",
       "    </tr>\n",
       "    <tr>\n",
       "      <td id=\"T_8dba4_row14_col0\" class=\"data row14 col0\" >3</td>\n",
       "      <td id=\"T_8dba4_row14_col1\" class=\"data row14 col1\" >10</td>\n",
       "      <td id=\"T_8dba4_row14_col2\" class=\"data row14 col2\" >5</td>\n",
       "      <td id=\"T_8dba4_row14_col3\" class=\"data row14 col3\" >1</td>\n",
       "      <td id=\"T_8dba4_row14_col4\" class=\"data row14 col4\" >12</td>\n",
       "    </tr>\n",
       "    <tr>\n",
       "      <td id=\"T_8dba4_row15_col0\" class=\"data row15 col0\" >2</td>\n",
       "      <td id=\"T_8dba4_row15_col1\" class=\"data row15 col1\" >8</td>\n",
       "      <td id=\"T_8dba4_row15_col2\" class=\"data row15 col2\" >6</td>\n",
       "      <td id=\"T_8dba4_row15_col3\" class=\"data row15 col3\" >1</td>\n",
       "      <td id=\"T_8dba4_row15_col4\" class=\"data row15 col4\" >23</td>\n",
       "    </tr>\n",
       "    <tr>\n",
       "      <td id=\"T_8dba4_row16_col0\" class=\"data row16 col0\" >1</td>\n",
       "      <td id=\"T_8dba4_row16_col1\" class=\"data row16 col1\" >10</td>\n",
       "      <td id=\"T_8dba4_row16_col2\" class=\"data row16 col2\" >6</td>\n",
       "      <td id=\"T_8dba4_row16_col3\" class=\"data row16 col3\" >1</td>\n",
       "      <td id=\"T_8dba4_row16_col4\" class=\"data row16 col4\" >13</td>\n",
       "    </tr>\n",
       "  </tbody>\n",
       "</table>\n"
      ],
      "text/plain": [
       "<pandas.io.formats.style.Styler at 0x1e103f2c450>"
      ]
     },
     "execution_count": 4,
     "metadata": {},
     "output_type": "execute_result"
    }
   ],
   "source": [
    "get_rec_table_wide(player_season).style.hide(axis=\"index\").format(precision=0)"
   ]
  },
  {
   "cell_type": "code",
   "execution_count": null,
   "id": "537fea6f",
   "metadata": {},
   "outputs": [],
   "source": [
    "get_rec_table_skinny(player_season).style.hide(axis=\"index\").format(precision=0)"
   ]
  },
  {
   "cell_type": "code",
   "execution_count": null,
   "id": "54a4d4b6",
   "metadata": {},
   "outputs": [],
   "source": [
    "fig = get_player_scatter_vertical(player_season)\n",
    "fig"
   ]
  },
  {
   "cell_type": "code",
   "execution_count": null,
   "id": "6831f328",
   "metadata": {},
   "outputs": [],
   "source": [
    "# SCATTER PLOT  (POSSIBLE LIGHT OPTION)\n",
    "\n",
    "fig = px.scatter(player_season,\n",
    "          x='targets',\n",
    "          y='receiving_yards',\n",
    "          size='week',\n",
    "          color='week',\n",
    "          template='plotly_white',\n",
    "          size_max=15,\n",
    "          width=300,\n",
    "          height=600,\n",
    "          color_continuous_scale='blues',\n",
    "          title = f\"{player_all.player_display_name[0]}<br><b><span style='color:yellow'>{player_all.ud_line.mean()}</span><br><span style='color:purple'>{player_all.pp_line.mean()}</span><br>\",\n",
    "          labels={'receiving_yards':'Receiving Yards','targets':'Targets'})\n",
    "fig.update_coloraxes(showscale=False)\n",
    "fig.add_hline(y=player_all.ud_line.mean(), line_width=2, line_color=\"yellow\")\n",
    "fig.add_hline(y=player_all.pp_line.mean(), line_width=2, line_color=\"purple\")\n",
    "fig.update_layout(title_x=0.5)"
   ]
  },
  {
   "cell_type": "code",
   "execution_count": null,
   "id": "2886d8f8",
   "metadata": {},
   "outputs": [],
   "source": [
    "##   go.Table skinny\n",
    "\n",
    "skinny = get_rec_table_skinny(player_season)\n",
    "\n",
    "fig = go.Figure(data = [go.Table(header = dict(values = ['<br><b>Week</b>', '<b>Rec<br>Yards</b>'],\n",
    "                                               align = \"center\"),\n",
    "                                 cells = dict(values = [skinny.week, skinny.receiving_yards],\n",
    "                                              align = \"center\",\n",
    "                                               font = dict(color = \"darkslategrey\", size = 11, family = 'Courier New')))])\n",
    " \n",
    "fig.update_layout(width=275, height=600)\n",
    "table1 = fig\n",
    "fig.show()"
   ]
  },
  {
   "cell_type": "code",
   "execution_count": 5,
   "id": "6f19d667",
   "metadata": {
    "scrolled": false
   },
   "outputs": [
    {
     "data": {
      "application/vnd.plotly.v1+json": {
       "config": {
        "plotlyServerURL": "https://plot.ly"
       },
       "data": [
        {
         "cells": {
          "align": "center",
          "font": {
           "color": "darkslategrey",
           "family": "Courier New",
           "size": 13
          },
          "values": [
           [
            18,
            17,
            16,
            15,
            14,
            13,
            12,
            11,
            10,
            9,
            8,
            7,
            6,
            4,
            3,
            2,
            1
           ],
           [
            8,
            4,
            9,
            6,
            6,
            12,
            9,
            12,
            10,
            5,
            6,
            8,
            10,
            3,
            10,
            8,
            10
           ],
           [
            3,
            3,
            7,
            4,
            1,
            7,
            6,
            5,
            6,
            4,
            3,
            6,
            4,
            3,
            5,
            6,
            6
           ],
           [
            0,
            0,
            2,
            1,
            0,
            1,
            2,
            1,
            1,
            0,
            1,
            1,
            0,
            0,
            1,
            1,
            1
           ],
           [
            2.2,
            7,
            20.6,
            11.7,
            0.8,
            22.2,
            19,
            10.3,
            20.3,
            8.7,
            9.9,
            14.2,
            4.9,
            4,
            12,
            23.1,
            12.6
           ]
          ]
         },
         "columnwidth": [
          0.7,
          1,
          0.7,
          1,
          1
         ],
         "header": {
          "align": "center",
          "font": {
           "color": "black",
           "size": 10
          },
          "values": [
           "<b>Week</b>",
           "<b>Targets</b>",
           "<b>Rec</b>",
           "<b>Rec TDs</b>",
           "<b>Fantasy Pts</b>"
          ]
         },
         "type": "table"
        }
       ],
       "layout": {
        "height": 600,
        "template": {
         "data": {
          "bar": [
           {
            "error_x": {
             "color": "#2a3f5f"
            },
            "error_y": {
             "color": "#2a3f5f"
            },
            "marker": {
             "line": {
              "color": "#E5ECF6",
              "width": 0.5
             },
             "pattern": {
              "fillmode": "overlay",
              "size": 10,
              "solidity": 0.2
             }
            },
            "type": "bar"
           }
          ],
          "barpolar": [
           {
            "marker": {
             "line": {
              "color": "#E5ECF6",
              "width": 0.5
             },
             "pattern": {
              "fillmode": "overlay",
              "size": 10,
              "solidity": 0.2
             }
            },
            "type": "barpolar"
           }
          ],
          "carpet": [
           {
            "aaxis": {
             "endlinecolor": "#2a3f5f",
             "gridcolor": "white",
             "linecolor": "white",
             "minorgridcolor": "white",
             "startlinecolor": "#2a3f5f"
            },
            "baxis": {
             "endlinecolor": "#2a3f5f",
             "gridcolor": "white",
             "linecolor": "white",
             "minorgridcolor": "white",
             "startlinecolor": "#2a3f5f"
            },
            "type": "carpet"
           }
          ],
          "choropleth": [
           {
            "colorbar": {
             "outlinewidth": 0,
             "ticks": ""
            },
            "type": "choropleth"
           }
          ],
          "contour": [
           {
            "colorbar": {
             "outlinewidth": 0,
             "ticks": ""
            },
            "colorscale": [
             [
              0,
              "#0d0887"
             ],
             [
              0.1111111111111111,
              "#46039f"
             ],
             [
              0.2222222222222222,
              "#7201a8"
             ],
             [
              0.3333333333333333,
              "#9c179e"
             ],
             [
              0.4444444444444444,
              "#bd3786"
             ],
             [
              0.5555555555555556,
              "#d8576b"
             ],
             [
              0.6666666666666666,
              "#ed7953"
             ],
             [
              0.7777777777777778,
              "#fb9f3a"
             ],
             [
              0.8888888888888888,
              "#fdca26"
             ],
             [
              1,
              "#f0f921"
             ]
            ],
            "type": "contour"
           }
          ],
          "contourcarpet": [
           {
            "colorbar": {
             "outlinewidth": 0,
             "ticks": ""
            },
            "type": "contourcarpet"
           }
          ],
          "heatmap": [
           {
            "colorbar": {
             "outlinewidth": 0,
             "ticks": ""
            },
            "colorscale": [
             [
              0,
              "#0d0887"
             ],
             [
              0.1111111111111111,
              "#46039f"
             ],
             [
              0.2222222222222222,
              "#7201a8"
             ],
             [
              0.3333333333333333,
              "#9c179e"
             ],
             [
              0.4444444444444444,
              "#bd3786"
             ],
             [
              0.5555555555555556,
              "#d8576b"
             ],
             [
              0.6666666666666666,
              "#ed7953"
             ],
             [
              0.7777777777777778,
              "#fb9f3a"
             ],
             [
              0.8888888888888888,
              "#fdca26"
             ],
             [
              1,
              "#f0f921"
             ]
            ],
            "type": "heatmap"
           }
          ],
          "heatmapgl": [
           {
            "colorbar": {
             "outlinewidth": 0,
             "ticks": ""
            },
            "colorscale": [
             [
              0,
              "#0d0887"
             ],
             [
              0.1111111111111111,
              "#46039f"
             ],
             [
              0.2222222222222222,
              "#7201a8"
             ],
             [
              0.3333333333333333,
              "#9c179e"
             ],
             [
              0.4444444444444444,
              "#bd3786"
             ],
             [
              0.5555555555555556,
              "#d8576b"
             ],
             [
              0.6666666666666666,
              "#ed7953"
             ],
             [
              0.7777777777777778,
              "#fb9f3a"
             ],
             [
              0.8888888888888888,
              "#fdca26"
             ],
             [
              1,
              "#f0f921"
             ]
            ],
            "type": "heatmapgl"
           }
          ],
          "histogram": [
           {
            "marker": {
             "pattern": {
              "fillmode": "overlay",
              "size": 10,
              "solidity": 0.2
             }
            },
            "type": "histogram"
           }
          ],
          "histogram2d": [
           {
            "colorbar": {
             "outlinewidth": 0,
             "ticks": ""
            },
            "colorscale": [
             [
              0,
              "#0d0887"
             ],
             [
              0.1111111111111111,
              "#46039f"
             ],
             [
              0.2222222222222222,
              "#7201a8"
             ],
             [
              0.3333333333333333,
              "#9c179e"
             ],
             [
              0.4444444444444444,
              "#bd3786"
             ],
             [
              0.5555555555555556,
              "#d8576b"
             ],
             [
              0.6666666666666666,
              "#ed7953"
             ],
             [
              0.7777777777777778,
              "#fb9f3a"
             ],
             [
              0.8888888888888888,
              "#fdca26"
             ],
             [
              1,
              "#f0f921"
             ]
            ],
            "type": "histogram2d"
           }
          ],
          "histogram2dcontour": [
           {
            "colorbar": {
             "outlinewidth": 0,
             "ticks": ""
            },
            "colorscale": [
             [
              0,
              "#0d0887"
             ],
             [
              0.1111111111111111,
              "#46039f"
             ],
             [
              0.2222222222222222,
              "#7201a8"
             ],
             [
              0.3333333333333333,
              "#9c179e"
             ],
             [
              0.4444444444444444,
              "#bd3786"
             ],
             [
              0.5555555555555556,
              "#d8576b"
             ],
             [
              0.6666666666666666,
              "#ed7953"
             ],
             [
              0.7777777777777778,
              "#fb9f3a"
             ],
             [
              0.8888888888888888,
              "#fdca26"
             ],
             [
              1,
              "#f0f921"
             ]
            ],
            "type": "histogram2dcontour"
           }
          ],
          "mesh3d": [
           {
            "colorbar": {
             "outlinewidth": 0,
             "ticks": ""
            },
            "type": "mesh3d"
           }
          ],
          "parcoords": [
           {
            "line": {
             "colorbar": {
              "outlinewidth": 0,
              "ticks": ""
             }
            },
            "type": "parcoords"
           }
          ],
          "pie": [
           {
            "automargin": true,
            "type": "pie"
           }
          ],
          "scatter": [
           {
            "fillpattern": {
             "fillmode": "overlay",
             "size": 10,
             "solidity": 0.2
            },
            "type": "scatter"
           }
          ],
          "scatter3d": [
           {
            "line": {
             "colorbar": {
              "outlinewidth": 0,
              "ticks": ""
             }
            },
            "marker": {
             "colorbar": {
              "outlinewidth": 0,
              "ticks": ""
             }
            },
            "type": "scatter3d"
           }
          ],
          "scattercarpet": [
           {
            "marker": {
             "colorbar": {
              "outlinewidth": 0,
              "ticks": ""
             }
            },
            "type": "scattercarpet"
           }
          ],
          "scattergeo": [
           {
            "marker": {
             "colorbar": {
              "outlinewidth": 0,
              "ticks": ""
             }
            },
            "type": "scattergeo"
           }
          ],
          "scattergl": [
           {
            "marker": {
             "colorbar": {
              "outlinewidth": 0,
              "ticks": ""
             }
            },
            "type": "scattergl"
           }
          ],
          "scattermapbox": [
           {
            "marker": {
             "colorbar": {
              "outlinewidth": 0,
              "ticks": ""
             }
            },
            "type": "scattermapbox"
           }
          ],
          "scatterpolar": [
           {
            "marker": {
             "colorbar": {
              "outlinewidth": 0,
              "ticks": ""
             }
            },
            "type": "scatterpolar"
           }
          ],
          "scatterpolargl": [
           {
            "marker": {
             "colorbar": {
              "outlinewidth": 0,
              "ticks": ""
             }
            },
            "type": "scatterpolargl"
           }
          ],
          "scatterternary": [
           {
            "marker": {
             "colorbar": {
              "outlinewidth": 0,
              "ticks": ""
             }
            },
            "type": "scatterternary"
           }
          ],
          "surface": [
           {
            "colorbar": {
             "outlinewidth": 0,
             "ticks": ""
            },
            "colorscale": [
             [
              0,
              "#0d0887"
             ],
             [
              0.1111111111111111,
              "#46039f"
             ],
             [
              0.2222222222222222,
              "#7201a8"
             ],
             [
              0.3333333333333333,
              "#9c179e"
             ],
             [
              0.4444444444444444,
              "#bd3786"
             ],
             [
              0.5555555555555556,
              "#d8576b"
             ],
             [
              0.6666666666666666,
              "#ed7953"
             ],
             [
              0.7777777777777778,
              "#fb9f3a"
             ],
             [
              0.8888888888888888,
              "#fdca26"
             ],
             [
              1,
              "#f0f921"
             ]
            ],
            "type": "surface"
           }
          ],
          "table": [
           {
            "cells": {
             "fill": {
              "color": "#EBF0F8"
             },
             "line": {
              "color": "white"
             }
            },
            "header": {
             "fill": {
              "color": "#C8D4E3"
             },
             "line": {
              "color": "white"
             }
            },
            "type": "table"
           }
          ]
         },
         "layout": {
          "annotationdefaults": {
           "arrowcolor": "#2a3f5f",
           "arrowhead": 0,
           "arrowwidth": 1
          },
          "autotypenumbers": "strict",
          "coloraxis": {
           "colorbar": {
            "outlinewidth": 0,
            "ticks": ""
           }
          },
          "colorscale": {
           "diverging": [
            [
             0,
             "#8e0152"
            ],
            [
             0.1,
             "#c51b7d"
            ],
            [
             0.2,
             "#de77ae"
            ],
            [
             0.3,
             "#f1b6da"
            ],
            [
             0.4,
             "#fde0ef"
            ],
            [
             0.5,
             "#f7f7f7"
            ],
            [
             0.6,
             "#e6f5d0"
            ],
            [
             0.7,
             "#b8e186"
            ],
            [
             0.8,
             "#7fbc41"
            ],
            [
             0.9,
             "#4d9221"
            ],
            [
             1,
             "#276419"
            ]
           ],
           "sequential": [
            [
             0,
             "#0d0887"
            ],
            [
             0.1111111111111111,
             "#46039f"
            ],
            [
             0.2222222222222222,
             "#7201a8"
            ],
            [
             0.3333333333333333,
             "#9c179e"
            ],
            [
             0.4444444444444444,
             "#bd3786"
            ],
            [
             0.5555555555555556,
             "#d8576b"
            ],
            [
             0.6666666666666666,
             "#ed7953"
            ],
            [
             0.7777777777777778,
             "#fb9f3a"
            ],
            [
             0.8888888888888888,
             "#fdca26"
            ],
            [
             1,
             "#f0f921"
            ]
           ],
           "sequentialminus": [
            [
             0,
             "#0d0887"
            ],
            [
             0.1111111111111111,
             "#46039f"
            ],
            [
             0.2222222222222222,
             "#7201a8"
            ],
            [
             0.3333333333333333,
             "#9c179e"
            ],
            [
             0.4444444444444444,
             "#bd3786"
            ],
            [
             0.5555555555555556,
             "#d8576b"
            ],
            [
             0.6666666666666666,
             "#ed7953"
            ],
            [
             0.7777777777777778,
             "#fb9f3a"
            ],
            [
             0.8888888888888888,
             "#fdca26"
            ],
            [
             1,
             "#f0f921"
            ]
           ]
          },
          "colorway": [
           "#636efa",
           "#EF553B",
           "#00cc96",
           "#ab63fa",
           "#FFA15A",
           "#19d3f3",
           "#FF6692",
           "#B6E880",
           "#FF97FF",
           "#FECB52"
          ],
          "font": {
           "color": "#2a3f5f"
          },
          "geo": {
           "bgcolor": "white",
           "lakecolor": "white",
           "landcolor": "#E5ECF6",
           "showlakes": true,
           "showland": true,
           "subunitcolor": "white"
          },
          "hoverlabel": {
           "align": "left"
          },
          "hovermode": "closest",
          "mapbox": {
           "style": "light"
          },
          "paper_bgcolor": "white",
          "plot_bgcolor": "#E5ECF6",
          "polar": {
           "angularaxis": {
            "gridcolor": "white",
            "linecolor": "white",
            "ticks": ""
           },
           "bgcolor": "#E5ECF6",
           "radialaxis": {
            "gridcolor": "white",
            "linecolor": "white",
            "ticks": ""
           }
          },
          "scene": {
           "xaxis": {
            "backgroundcolor": "#E5ECF6",
            "gridcolor": "white",
            "gridwidth": 2,
            "linecolor": "white",
            "showbackground": true,
            "ticks": "",
            "zerolinecolor": "white"
           },
           "yaxis": {
            "backgroundcolor": "#E5ECF6",
            "gridcolor": "white",
            "gridwidth": 2,
            "linecolor": "white",
            "showbackground": true,
            "ticks": "",
            "zerolinecolor": "white"
           },
           "zaxis": {
            "backgroundcolor": "#E5ECF6",
            "gridcolor": "white",
            "gridwidth": 2,
            "linecolor": "white",
            "showbackground": true,
            "ticks": "",
            "zerolinecolor": "white"
           }
          },
          "shapedefaults": {
           "line": {
            "color": "#2a3f5f"
           }
          },
          "ternary": {
           "aaxis": {
            "gridcolor": "white",
            "linecolor": "white",
            "ticks": ""
           },
           "baxis": {
            "gridcolor": "white",
            "linecolor": "white",
            "ticks": ""
           },
           "bgcolor": "#E5ECF6",
           "caxis": {
            "gridcolor": "white",
            "linecolor": "white",
            "ticks": ""
           }
          },
          "title": {
           "x": 0.05
          },
          "xaxis": {
           "automargin": true,
           "gridcolor": "white",
           "linecolor": "white",
           "ticks": "",
           "title": {
            "standoff": 15
           },
           "zerolinecolor": "white",
           "zerolinewidth": 2
          },
          "yaxis": {
           "automargin": true,
           "gridcolor": "white",
           "linecolor": "white",
           "ticks": "",
           "title": {
            "standoff": 15
           },
           "zerolinecolor": "white",
           "zerolinewidth": 2
          }
         }
        },
        "width": 550
       }
      }
     },
     "metadata": {},
     "output_type": "display_data"
    }
   ],
   "source": [
    "##   go.Table wide\n",
    "\n",
    "wide = get_rec_table_wide(player_season)\n",
    "\n",
    "fig = go.Figure(data = [go.Table(columnwidth = [.7,1,.7,1,1],\n",
    "                                 header = dict(values = ['<b>Week</b>','<b>Targets</b>','<b>Rec</b>','<b>Rec TDs</b>','<b>Fantasy Pts</b>'],\n",
    "                                               align = \"center\",\n",
    "                                               font = dict(size=10, color='black')),\n",
    "                                 cells = dict(values = [wide.week, wide.targets, wide.receptions, wide.receiving_tds, wide.fantasy_points],\n",
    "                                              align = \"center\",\n",
    "                                              font = dict(color = \"darkslategrey\", size = 13, family = 'Courier New')))])\n",
    " \n",
    "fig.update_layout(width=550, height=600)\n",
    "table2 = fig\n",
    "fig.show()"
   ]
  },
  {
   "cell_type": "code",
   "execution_count": null,
   "id": "addbbc7f",
   "metadata": {},
   "outputs": [],
   "source": [
    "## ONE PLAYER Receiving Yards Distribution (PLOTLY)\n",
    "\n",
    "hist_fig = px.histogram(player_season2,#[player_df.season > 2021].reset_index(drop=True),# & (nfl.season == 2023)],\n",
    "            x='receiving_yards',\n",
    "            barmode='stack',\n",
    "            nbins=30,\n",
    "            template='simple_white',\n",
    "            text_auto='true',\n",
    "            color='season',\n",
    "            width = 700,\n",
    "            height = 400,\n",
    "            title=title\n",
    "            )\n",
    "hist_fig.show()"
   ]
  },
  {
   "cell_type": "code",
   "execution_count": null,
   "id": "d9b40819",
   "metadata": {},
   "outputs": [],
   "source": [
    "###################################################################################\n",
    "## ECDF Plot (Plotly) last 2 seasons\n",
    "\n",
    "fig_ecdf = px.ecdf(player_season2, y=\"receiving_yards\", color=\"season\",template='ggplot2',title=title,width=400)#,title=f\"<b></b><br>Mean: {round(np.mean(chase.receiving_yards),1)} Median {np.median(chase.receiving_yards)}<br>Underdog Line: {chase.ud_line.mean()}<br><br>\",width=600)#  Mean Projection: {round(chase.etr_proj.mean(),1)}<br><br>\",width=600)\n",
    "fig_ecdf.add_hline(y=line, line_width=3, line_color=\"yellow\")\n",
    "fig_ecdf.add_hline(y=player_season['receiving_yards'].mean(), line_width=2, line_color=\"black\")\n",
    "fig_ecdf.add_hline(y=player_season.receiving_yards.median(), line_width=2, line_color=\"red\")\n",
    "fig_ecdf.show()"
   ]
  },
  {
   "cell_type": "code",
   "execution_count": null,
   "id": "d03c0bf3",
   "metadata": {
    "scrolled": false
   },
   "outputs": [],
   "source": [
    "#####################################################################################\n",
    "## Histogram w/ KDE line\n",
    "\n",
    "### distplot with kde line\n",
    "sns.histplot(player_season2.receiving_yards,bins=20,kde=True,color='olive').set(title=title)\n",
    "sns.set(rc={\"figure.figsize\":(5, 3)})\n",
    "plt.axvline(np.median(player_season2.receiving_yards).round(0),linestyle='solid',color='black')\n",
    "plt.axvline(line,linestyle='solid',color='yellow')"
   ]
  },
  {
   "cell_type": "code",
   "execution_count": null,
   "id": "8fe9719c",
   "metadata": {
    "scrolled": false
   },
   "outputs": [],
   "source": [
    "## Histogram w/ KDE line (hue=season)\n",
    "\n",
    "sns.histplot(player_season2, x=\"receiving_yards\", hue=\"season\",bins=20, kde=True).set(title=title)\n",
    "sns.set(rc={\"figure.figsize\":( 5, 3)})\n",
    "plt.axvline(line,linestyle='solid',color='yellow')\n",
    "plt.axvline(player_season2['receiving_yards'].median(),linestyle='solid',color='black')"
   ]
  },
  {
   "cell_type": "code",
   "execution_count": null,
   "id": "a138d984",
   "metadata": {
    "scrolled": true
   },
   "outputs": [],
   "source": [
    "## ECDF Plot (matplotlib) last 2 seasons\n",
    "\n",
    "sns.displot(data=player_season2, x=\"receiving_yards\", kind=\"ecdf\", hue='season').set(title=title)\n",
    "sns.set(rc={\"figure.figsize\":( 5, 3)})\n",
    "plt.axvline(np.median(player_season.receiving_yards).round(0),linestyle='solid',color='black')\n",
    "plt.axvline(line,linestyle='solid',color='yellow')\n",
    "#     plt.show()"
   ]
  },
  {
   "cell_type": "code",
   "execution_count": null,
   "id": "5ea2baae",
   "metadata": {},
   "outputs": [],
   "source": [
    "##  Horizontal scatter (showing last 2 seasons)\n",
    "\n",
    "get_player_scatter_horizontal(player_season2)"
   ]
  },
  {
   "cell_type": "code",
   "execution_count": null,
   "id": "4d5bede4",
   "metadata": {},
   "outputs": [],
   "source": []
  },
  {
   "cell_type": "code",
   "execution_count": null,
   "id": "66d7356d",
   "metadata": {},
   "outputs": [],
   "source": []
  }
 ],
 "metadata": {
  "kernelspec": {
   "display_name": "Python 3 (ipykernel)",
   "language": "python",
   "name": "python3"
  },
  "language_info": {
   "codemirror_mode": {
    "name": "ipython",
    "version": 3
   },
   "file_extension": ".py",
   "mimetype": "text/x-python",
   "name": "python",
   "nbconvert_exporter": "python",
   "pygments_lexer": "ipython3",
   "version": "3.11.5"
  }
 },
 "nbformat": 4,
 "nbformat_minor": 5
}

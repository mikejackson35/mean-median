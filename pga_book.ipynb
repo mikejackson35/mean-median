{
 "cells": [
  {
   "cell_type": "code",
   "execution_count": 85,
   "id": "ff4d8f39",
   "metadata": {},
   "outputs": [],
   "source": [
    "import numpy as np\n",
    "import tls_client\n",
    "import pandas as pd\n",
    "import webbrowser\n",
    "import requests\n",
    "import re\n",
    "import plotly.express as px\n",
    "import seaborn as sns\n",
    "from utils import merge_books, pp_delta, ud_delta\n",
    "\n",
    "pd.set_option('display.max_columns', None)"
   ]
  },
  {
   "cell_type": "code",
   "execution_count": 11,
   "id": "397a0dac",
   "metadata": {},
   "outputs": [],
   "source": [
    "# -- read in scraped data from RotoWorld\n",
    "\n",
    "pp = pd.read_csv(r\"C:\\Users\\mikej\\Downloads\\rw-prizepicks-predictions-2024-01-27.csv\")         #prize picks lines\n",
    "ud = pd.read_csv(r\"C:\\Users\\mikej\\Downloads\\rw-underdog-predictions-2024-01-27 (1).csv\")           #underdog lines\n",
    "\n",
    "# spreads = pd.read_excel(r\"C:\\Users\\mikej\\Downloads\\nfl-odds-rotowire (6).xlsx\",header=1)           #game spreads and totals\n",
    "# spreads = (spreads\n",
    "#            [['Team','Spread','Over-Under']]\n",
    "#            .rename(columns = {'Team':'team','Spread':'spread','Over-Under':'over_under'}))\n",
    "\n",
    "# books_merged = merge_books(pp,ud)\n",
    "# books_merged.to_csv('data/books_merged.csv',index=False)\n",
    "# books_merged.sample(3)"
   ]
  },
  {
   "cell_type": "code",
   "execution_count": 12,
   "id": "370f65c2",
   "metadata": {},
   "outputs": [],
   "source": [
    "\n",
    "\n",
    "pp = pp[['Player', 'Market Name', 'Line']].rename(columns={'Player':'player','Market Name':'market','Line':'pp_line'})#.set_index('player')\n",
    "ud = ud[['Player', 'Market Name', 'Line']].rename(columns={'Player':'player','Market Name':'market','Line':'ud_line'})#.set_index('player')"
   ]
  },
  {
   "cell_type": "code",
   "execution_count": 39,
   "id": "d7853a6b",
   "metadata": {},
   "outputs": [
    {
     "data": {
      "text/html": [
       "<div>\n",
       "<style scoped>\n",
       "    .dataframe tbody tr th:only-of-type {\n",
       "        vertical-align: middle;\n",
       "    }\n",
       "\n",
       "    .dataframe tbody tr th {\n",
       "        vertical-align: top;\n",
       "    }\n",
       "\n",
       "    .dataframe thead th {\n",
       "        text-align: right;\n",
       "    }\n",
       "</style>\n",
       "<table border=\"1\" class=\"dataframe\">\n",
       "  <thead>\n",
       "    <tr style=\"text-align: right;\">\n",
       "      <th></th>\n",
       "      <th>player</th>\n",
       "      <th>market</th>\n",
       "      <th>book</th>\n",
       "      <th>line</th>\n",
       "    </tr>\n",
       "  </thead>\n",
       "  <tbody>\n",
       "    <tr>\n",
       "      <th>0</th>\n",
       "      <td>Akshay Bhatia</td>\n",
       "      <td>Strokes</td>\n",
       "      <td>pp_line</td>\n",
       "      <td>72.5</td>\n",
       "    </tr>\n",
       "    <tr>\n",
       "      <th>1</th>\n",
       "      <td>Akshay Bhatia</td>\n",
       "      <td>Birdies or Better</td>\n",
       "      <td>pp_line</td>\n",
       "      <td>3.5</td>\n",
       "    </tr>\n",
       "  </tbody>\n",
       "</table>\n",
       "</div>"
      ],
      "text/plain": [
       "          player             market     book  line\n",
       "0  Akshay Bhatia            Strokes  pp_line  72.5\n",
       "1  Akshay Bhatia  Birdies or Better  pp_line   3.5"
      ]
     },
     "execution_count": 39,
     "metadata": {},
     "output_type": "execute_result"
    }
   ],
   "source": [
    "golf = pd.merge(pp,ud).melt(id_vars=['player','market']).sort_values('player').rename(columns={'variable':'book','value':'line'}).reset_index(drop=True)\n",
    "golf.head(2)"
   ]
  },
  {
   "cell_type": "code",
   "execution_count": 90,
   "id": "2738d4e7",
   "metadata": {},
   "outputs": [
    {
     "data": {
      "text/html": [
       "<div>\n",
       "<style scoped>\n",
       "    .dataframe tbody tr th:only-of-type {\n",
       "        vertical-align: middle;\n",
       "    }\n",
       "\n",
       "    .dataframe tbody tr th {\n",
       "        vertical-align: top;\n",
       "    }\n",
       "\n",
       "    .dataframe thead th {\n",
       "        text-align: right;\n",
       "    }\n",
       "</style>\n",
       "<table border=\"1\" class=\"dataframe\">\n",
       "  <thead>\n",
       "    <tr style=\"text-align: right;\">\n",
       "      <th></th>\n",
       "      <th>player</th>\n",
       "      <th>market</th>\n",
       "      <th>book</th>\n",
       "      <th>line</th>\n",
       "    </tr>\n",
       "  </thead>\n",
       "  <tbody>\n",
       "    <tr>\n",
       "      <th>2</th>\n",
       "      <td>Akshay Bhatia</td>\n",
       "      <td>Birdies or Better</td>\n",
       "      <td>ud_line</td>\n",
       "      <td>3.0</td>\n",
       "    </tr>\n",
       "    <tr>\n",
       "      <th>43</th>\n",
       "      <td>Thomas Detry</td>\n",
       "      <td>Birdies or Better</td>\n",
       "      <td>ud_line</td>\n",
       "      <td>3.0</td>\n",
       "    </tr>\n",
       "    <tr>\n",
       "      <th>24</th>\n",
       "      <td>Nicolai Hojgaard</td>\n",
       "      <td>Birdies or Better</td>\n",
       "      <td>ud_line</td>\n",
       "      <td>3.5</td>\n",
       "    </tr>\n",
       "    <tr>\n",
       "      <th>23</th>\n",
       "      <td>Min Woo Lee</td>\n",
       "      <td>Birdies or Better</td>\n",
       "      <td>ud_line</td>\n",
       "      <td>3.5</td>\n",
       "    </tr>\n",
       "    <tr>\n",
       "      <th>26</th>\n",
       "      <td>Nicolai Hojgaard</td>\n",
       "      <td>Birdies or Better</td>\n",
       "      <td>pp_line</td>\n",
       "      <td>3.5</td>\n",
       "    </tr>\n",
       "    <tr>\n",
       "      <th>13</th>\n",
       "      <td>Keegan Bradley</td>\n",
       "      <td>Birdies or Better</td>\n",
       "      <td>pp_line</td>\n",
       "      <td>3.5</td>\n",
       "    </tr>\n",
       "    <tr>\n",
       "      <th>11</th>\n",
       "      <td>Keegan Bradley</td>\n",
       "      <td>Birdies or Better</td>\n",
       "      <td>ud_line</td>\n",
       "      <td>3.5</td>\n",
       "    </tr>\n",
       "    <tr>\n",
       "      <th>30</th>\n",
       "      <td>Sahith Theegala</td>\n",
       "      <td>Birdies or Better</td>\n",
       "      <td>pp_line</td>\n",
       "      <td>3.5</td>\n",
       "    </tr>\n",
       "    <tr>\n",
       "      <th>21</th>\n",
       "      <td>Min Woo Lee</td>\n",
       "      <td>Birdies or Better</td>\n",
       "      <td>pp_line</td>\n",
       "      <td>3.5</td>\n",
       "    </tr>\n",
       "    <tr>\n",
       "      <th>33</th>\n",
       "      <td>Sahith Theegala</td>\n",
       "      <td>Birdies or Better</td>\n",
       "      <td>ud_line</td>\n",
       "      <td>3.5</td>\n",
       "    </tr>\n",
       "    <tr>\n",
       "      <th>37</th>\n",
       "      <td>Stephan Jaeger</td>\n",
       "      <td>Birdies or Better</td>\n",
       "      <td>pp_line</td>\n",
       "      <td>3.5</td>\n",
       "    </tr>\n",
       "    <tr>\n",
       "      <th>42</th>\n",
       "      <td>Thomas Detry</td>\n",
       "      <td>Birdies or Better</td>\n",
       "      <td>pp_line</td>\n",
       "      <td>3.5</td>\n",
       "    </tr>\n",
       "    <tr>\n",
       "      <th>45</th>\n",
       "      <td>Tony Finau</td>\n",
       "      <td>Birdies or Better</td>\n",
       "      <td>pp_line</td>\n",
       "      <td>3.5</td>\n",
       "    </tr>\n",
       "    <tr>\n",
       "      <th>47</th>\n",
       "      <td>Tony Finau</td>\n",
       "      <td>Birdies or Better</td>\n",
       "      <td>ud_line</td>\n",
       "      <td>3.5</td>\n",
       "    </tr>\n",
       "    <tr>\n",
       "      <th>1</th>\n",
       "      <td>Akshay Bhatia</td>\n",
       "      <td>Birdies or Better</td>\n",
       "      <td>pp_line</td>\n",
       "      <td>3.5</td>\n",
       "    </tr>\n",
       "    <tr>\n",
       "      <th>36</th>\n",
       "      <td>Stephan Jaeger</td>\n",
       "      <td>Birdies or Better</td>\n",
       "      <td>ud_line</td>\n",
       "      <td>3.5</td>\n",
       "    </tr>\n",
       "    <tr>\n",
       "      <th>28</th>\n",
       "      <td>Patrick Cantlay</td>\n",
       "      <td>Strokes</td>\n",
       "      <td>pp_line</td>\n",
       "      <td>71.0</td>\n",
       "    </tr>\n",
       "    <tr>\n",
       "      <th>48</th>\n",
       "      <td>Xander Schauffele</td>\n",
       "      <td>Strokes</td>\n",
       "      <td>ud_line</td>\n",
       "      <td>71.0</td>\n",
       "    </tr>\n",
       "    <tr>\n",
       "      <th>19</th>\n",
       "      <td>Max Homa</td>\n",
       "      <td>Strokes</td>\n",
       "      <td>ud_line</td>\n",
       "      <td>71.0</td>\n",
       "    </tr>\n",
       "    <tr>\n",
       "      <th>49</th>\n",
       "      <td>Xander Schauffele</td>\n",
       "      <td>Strokes</td>\n",
       "      <td>pp_line</td>\n",
       "      <td>71.0</td>\n",
       "    </tr>\n",
       "    <tr>\n",
       "      <th>15</th>\n",
       "      <td>Ludvig Aberg</td>\n",
       "      <td>Strokes</td>\n",
       "      <td>ud_line</td>\n",
       "      <td>71.0</td>\n",
       "    </tr>\n",
       "    <tr>\n",
       "      <th>44</th>\n",
       "      <td>Tony Finau</td>\n",
       "      <td>Strokes</td>\n",
       "      <td>pp_line</td>\n",
       "      <td>71.5</td>\n",
       "    </tr>\n",
       "    <tr>\n",
       "      <th>18</th>\n",
       "      <td>Max Homa</td>\n",
       "      <td>Strokes</td>\n",
       "      <td>pp_line</td>\n",
       "      <td>71.5</td>\n",
       "    </tr>\n",
       "    <tr>\n",
       "      <th>46</th>\n",
       "      <td>Tony Finau</td>\n",
       "      <td>Strokes</td>\n",
       "      <td>ud_line</td>\n",
       "      <td>71.5</td>\n",
       "    </tr>\n",
       "    <tr>\n",
       "      <th>10</th>\n",
       "      <td>Keegan Bradley</td>\n",
       "      <td>Strokes</td>\n",
       "      <td>ud_line</td>\n",
       "      <td>71.5</td>\n",
       "    </tr>\n",
       "    <tr>\n",
       "      <th>14</th>\n",
       "      <td>Ludvig Aberg</td>\n",
       "      <td>Strokes</td>\n",
       "      <td>pp_line</td>\n",
       "      <td>71.5</td>\n",
       "    </tr>\n",
       "    <tr>\n",
       "      <th>29</th>\n",
       "      <td>Patrick Cantlay</td>\n",
       "      <td>Strokes</td>\n",
       "      <td>ud_line</td>\n",
       "      <td>71.5</td>\n",
       "    </tr>\n",
       "    <tr>\n",
       "      <th>6</th>\n",
       "      <td>Hideki Matsuyama</td>\n",
       "      <td>Strokes</td>\n",
       "      <td>ud_line</td>\n",
       "      <td>72.0</td>\n",
       "    </tr>\n",
       "    <tr>\n",
       "      <th>20</th>\n",
       "      <td>Min Woo Lee</td>\n",
       "      <td>Strokes</td>\n",
       "      <td>pp_line</td>\n",
       "      <td>72.0</td>\n",
       "    </tr>\n",
       "    <tr>\n",
       "      <th>25</th>\n",
       "      <td>Nicolai Hojgaard</td>\n",
       "      <td>Strokes</td>\n",
       "      <td>ud_line</td>\n",
       "      <td>72.0</td>\n",
       "    </tr>\n",
       "    <tr>\n",
       "      <th>22</th>\n",
       "      <td>Min Woo Lee</td>\n",
       "      <td>Strokes</td>\n",
       "      <td>ud_line</td>\n",
       "      <td>72.0</td>\n",
       "    </tr>\n",
       "    <tr>\n",
       "      <th>3</th>\n",
       "      <td>Akshay Bhatia</td>\n",
       "      <td>Strokes</td>\n",
       "      <td>ud_line</td>\n",
       "      <td>72.0</td>\n",
       "    </tr>\n",
       "    <tr>\n",
       "      <th>4</th>\n",
       "      <td>Emiliano Grillo</td>\n",
       "      <td>Strokes</td>\n",
       "      <td>ud_line</td>\n",
       "      <td>72.5</td>\n",
       "    </tr>\n",
       "    <tr>\n",
       "      <th>5</th>\n",
       "      <td>Emiliano Grillo</td>\n",
       "      <td>Strokes</td>\n",
       "      <td>pp_line</td>\n",
       "      <td>72.5</td>\n",
       "    </tr>\n",
       "    <tr>\n",
       "      <th>41</th>\n",
       "      <td>Thomas Detry</td>\n",
       "      <td>Strokes</td>\n",
       "      <td>ud_line</td>\n",
       "      <td>72.5</td>\n",
       "    </tr>\n",
       "    <tr>\n",
       "      <th>38</th>\n",
       "      <td>Stephan Jaeger</td>\n",
       "      <td>Strokes</td>\n",
       "      <td>ud_line</td>\n",
       "      <td>72.5</td>\n",
       "    </tr>\n",
       "    <tr>\n",
       "      <th>7</th>\n",
       "      <td>Hideki Matsuyama</td>\n",
       "      <td>Strokes</td>\n",
       "      <td>pp_line</td>\n",
       "      <td>72.5</td>\n",
       "    </tr>\n",
       "    <tr>\n",
       "      <th>34</th>\n",
       "      <td>Shane Lowry</td>\n",
       "      <td>Strokes</td>\n",
       "      <td>ud_line</td>\n",
       "      <td>72.5</td>\n",
       "    </tr>\n",
       "    <tr>\n",
       "      <th>35</th>\n",
       "      <td>Shane Lowry</td>\n",
       "      <td>Strokes</td>\n",
       "      <td>pp_line</td>\n",
       "      <td>72.5</td>\n",
       "    </tr>\n",
       "    <tr>\n",
       "      <th>9</th>\n",
       "      <td>Justin Rose</td>\n",
       "      <td>Strokes</td>\n",
       "      <td>ud_line</td>\n",
       "      <td>72.5</td>\n",
       "    </tr>\n",
       "    <tr>\n",
       "      <th>32</th>\n",
       "      <td>Sahith Theegala</td>\n",
       "      <td>Strokes</td>\n",
       "      <td>pp_line</td>\n",
       "      <td>72.5</td>\n",
       "    </tr>\n",
       "    <tr>\n",
       "      <th>31</th>\n",
       "      <td>Sahith Theegala</td>\n",
       "      <td>Strokes</td>\n",
       "      <td>ud_line</td>\n",
       "      <td>72.5</td>\n",
       "    </tr>\n",
       "    <tr>\n",
       "      <th>12</th>\n",
       "      <td>Keegan Bradley</td>\n",
       "      <td>Strokes</td>\n",
       "      <td>pp_line</td>\n",
       "      <td>72.5</td>\n",
       "    </tr>\n",
       "    <tr>\n",
       "      <th>27</th>\n",
       "      <td>Nicolai Hojgaard</td>\n",
       "      <td>Strokes</td>\n",
       "      <td>pp_line</td>\n",
       "      <td>72.5</td>\n",
       "    </tr>\n",
       "    <tr>\n",
       "      <th>8</th>\n",
       "      <td>Justin Rose</td>\n",
       "      <td>Strokes</td>\n",
       "      <td>pp_line</td>\n",
       "      <td>72.5</td>\n",
       "    </tr>\n",
       "    <tr>\n",
       "      <th>0</th>\n",
       "      <td>Akshay Bhatia</td>\n",
       "      <td>Strokes</td>\n",
       "      <td>pp_line</td>\n",
       "      <td>72.5</td>\n",
       "    </tr>\n",
       "    <tr>\n",
       "      <th>39</th>\n",
       "      <td>Stephan Jaeger</td>\n",
       "      <td>Strokes</td>\n",
       "      <td>pp_line</td>\n",
       "      <td>73.0</td>\n",
       "    </tr>\n",
       "    <tr>\n",
       "      <th>40</th>\n",
       "      <td>Thomas Detry</td>\n",
       "      <td>Strokes</td>\n",
       "      <td>pp_line</td>\n",
       "      <td>73.0</td>\n",
       "    </tr>\n",
       "    <tr>\n",
       "      <th>17</th>\n",
       "      <td>Matthieu Pavon</td>\n",
       "      <td>Strokes</td>\n",
       "      <td>ud_line</td>\n",
       "      <td>73.0</td>\n",
       "    </tr>\n",
       "    <tr>\n",
       "      <th>16</th>\n",
       "      <td>Matthieu Pavon</td>\n",
       "      <td>Strokes</td>\n",
       "      <td>pp_line</td>\n",
       "      <td>73.5</td>\n",
       "    </tr>\n",
       "  </tbody>\n",
       "</table>\n",
       "</div>"
      ],
      "text/plain": [
       "               player             market     book  line\n",
       "2       Akshay Bhatia  Birdies or Better  ud_line   3.0\n",
       "43       Thomas Detry  Birdies or Better  ud_line   3.0\n",
       "24   Nicolai Hojgaard  Birdies or Better  ud_line   3.5\n",
       "23        Min Woo Lee  Birdies or Better  ud_line   3.5\n",
       "26   Nicolai Hojgaard  Birdies or Better  pp_line   3.5\n",
       "13     Keegan Bradley  Birdies or Better  pp_line   3.5\n",
       "11     Keegan Bradley  Birdies or Better  ud_line   3.5\n",
       "30    Sahith Theegala  Birdies or Better  pp_line   3.5\n",
       "21        Min Woo Lee  Birdies or Better  pp_line   3.5\n",
       "33    Sahith Theegala  Birdies or Better  ud_line   3.5\n",
       "37     Stephan Jaeger  Birdies or Better  pp_line   3.5\n",
       "42       Thomas Detry  Birdies or Better  pp_line   3.5\n",
       "45         Tony Finau  Birdies or Better  pp_line   3.5\n",
       "47         Tony Finau  Birdies or Better  ud_line   3.5\n",
       "1       Akshay Bhatia  Birdies or Better  pp_line   3.5\n",
       "36     Stephan Jaeger  Birdies or Better  ud_line   3.5\n",
       "28    Patrick Cantlay            Strokes  pp_line  71.0\n",
       "48  Xander Schauffele            Strokes  ud_line  71.0\n",
       "19           Max Homa            Strokes  ud_line  71.0\n",
       "49  Xander Schauffele            Strokes  pp_line  71.0\n",
       "15       Ludvig Aberg            Strokes  ud_line  71.0\n",
       "44         Tony Finau            Strokes  pp_line  71.5\n",
       "18           Max Homa            Strokes  pp_line  71.5\n",
       "46         Tony Finau            Strokes  ud_line  71.5\n",
       "10     Keegan Bradley            Strokes  ud_line  71.5\n",
       "14       Ludvig Aberg            Strokes  pp_line  71.5\n",
       "29    Patrick Cantlay            Strokes  ud_line  71.5\n",
       "6    Hideki Matsuyama            Strokes  ud_line  72.0\n",
       "20        Min Woo Lee            Strokes  pp_line  72.0\n",
       "25   Nicolai Hojgaard            Strokes  ud_line  72.0\n",
       "22        Min Woo Lee            Strokes  ud_line  72.0\n",
       "3       Akshay Bhatia            Strokes  ud_line  72.0\n",
       "4     Emiliano Grillo            Strokes  ud_line  72.5\n",
       "5     Emiliano Grillo            Strokes  pp_line  72.5\n",
       "41       Thomas Detry            Strokes  ud_line  72.5\n",
       "38     Stephan Jaeger            Strokes  ud_line  72.5\n",
       "7    Hideki Matsuyama            Strokes  pp_line  72.5\n",
       "34        Shane Lowry            Strokes  ud_line  72.5\n",
       "35        Shane Lowry            Strokes  pp_line  72.5\n",
       "9         Justin Rose            Strokes  ud_line  72.5\n",
       "32    Sahith Theegala            Strokes  pp_line  72.5\n",
       "31    Sahith Theegala            Strokes  ud_line  72.5\n",
       "12     Keegan Bradley            Strokes  pp_line  72.5\n",
       "27   Nicolai Hojgaard            Strokes  pp_line  72.5\n",
       "8         Justin Rose            Strokes  pp_line  72.5\n",
       "0       Akshay Bhatia            Strokes  pp_line  72.5\n",
       "39     Stephan Jaeger            Strokes  pp_line  73.0\n",
       "40       Thomas Detry            Strokes  pp_line  73.0\n",
       "17     Matthieu Pavon            Strokes  ud_line  73.0\n",
       "16     Matthieu Pavon            Strokes  pp_line  73.5"
      ]
     },
     "execution_count": 90,
     "metadata": {},
     "output_type": "execute_result"
    }
   ],
   "source": [
    "golf.sort_values('line')"
   ]
  },
  {
   "cell_type": "code",
   "execution_count": 86,
   "id": "feb3e5be",
   "metadata": {},
   "outputs": [
    {
     "data": {
      "text/html": [
       "<div>\n",
       "<style scoped>\n",
       "    .dataframe tbody tr th:only-of-type {\n",
       "        vertical-align: middle;\n",
       "    }\n",
       "\n",
       "    .dataframe tbody tr th {\n",
       "        vertical-align: top;\n",
       "    }\n",
       "\n",
       "    .dataframe thead th {\n",
       "        text-align: right;\n",
       "    }\n",
       "</style>\n",
       "<table border=\"1\" class=\"dataframe\">\n",
       "  <thead>\n",
       "    <tr style=\"text-align: right;\">\n",
       "      <th></th>\n",
       "      <th>tour</th>\n",
       "      <th>year</th>\n",
       "      <th>season</th>\n",
       "      <th>event_completed</th>\n",
       "      <th>event_name</th>\n",
       "      <th>event_id</th>\n",
       "      <th>player_name</th>\n",
       "      <th>dg_id</th>\n",
       "      <th>finish_pos</th>\n",
       "      <th>round_num</th>\n",
       "      <th>course_name</th>\n",
       "      <th>course_num</th>\n",
       "      <th>course_par</th>\n",
       "      <th>start_hole</th>\n",
       "      <th>teetime</th>\n",
       "      <th>round_score</th>\n",
       "      <th>sg_putt</th>\n",
       "      <th>sg_arg</th>\n",
       "      <th>sg_app</th>\n",
       "      <th>sg_ott</th>\n",
       "      <th>sg_t2g</th>\n",
       "      <th>sg_total</th>\n",
       "      <th>driving_dist</th>\n",
       "      <th>driving_acc</th>\n",
       "      <th>gir</th>\n",
       "      <th>scrambling</th>\n",
       "      <th>prox_rgh</th>\n",
       "      <th>prox_fw</th>\n",
       "      <th>great_shots</th>\n",
       "      <th>poor_shots</th>\n",
       "      <th>unique_event_id</th>\n",
       "      <th>score_to_par</th>\n",
       "      <th>loser_key</th>\n",
       "    </tr>\n",
       "  </thead>\n",
       "  <tbody>\n",
       "    <tr>\n",
       "      <th>0</th>\n",
       "      <td>pga</td>\n",
       "      <td>2024</td>\n",
       "      <td>2024</td>\n",
       "      <td>2024-01-07</td>\n",
       "      <td>The Sentry</td>\n",
       "      <td>16</td>\n",
       "      <td>Rose, Justin</td>\n",
       "      <td>6093</td>\n",
       "      <td>40.0</td>\n",
       "      <td>3</td>\n",
       "      <td>Plantation Course at Kapalua</td>\n",
       "      <td>656</td>\n",
       "      <td>73</td>\n",
       "      <td>10</td>\n",
       "      <td>9:21am</td>\n",
       "      <td>75.0</td>\n",
       "      <td>-0.591</td>\n",
       "      <td>-1.327</td>\n",
       "      <td>-1.784</td>\n",
       "      <td>-0.807</td>\n",
       "      <td>-3.918</td>\n",
       "      <td>-4.508</td>\n",
       "      <td>303.8</td>\n",
       "      <td>0.600</td>\n",
       "      <td>0.833</td>\n",
       "      <td>0.429</td>\n",
       "      <td>16.369</td>\n",
       "      <td>52.203</td>\n",
       "      <td>2.0</td>\n",
       "      <td>4.0</td>\n",
       "      <td>202416</td>\n",
       "      <td>2.0</td>\n",
       "      <td>('Rose, Justin', '202416')</td>\n",
       "    </tr>\n",
       "    <tr>\n",
       "      <th>1</th>\n",
       "      <td>pga</td>\n",
       "      <td>2024</td>\n",
       "      <td>2024</td>\n",
       "      <td>2024-01-07</td>\n",
       "      <td>The Sentry</td>\n",
       "      <td>16</td>\n",
       "      <td>List, Luke</td>\n",
       "      <td>7960</td>\n",
       "      <td>22.0</td>\n",
       "      <td>2</td>\n",
       "      <td>Plantation Course at Kapalua</td>\n",
       "      <td>656</td>\n",
       "      <td>73</td>\n",
       "      <td>1</td>\n",
       "      <td>10:27am</td>\n",
       "      <td>70.0</td>\n",
       "      <td>-1.352</td>\n",
       "      <td>-1.963</td>\n",
       "      <td>0.534</td>\n",
       "      <td>0.255</td>\n",
       "      <td>-1.174</td>\n",
       "      <td>-2.525</td>\n",
       "      <td>324.1</td>\n",
       "      <td>0.533</td>\n",
       "      <td>0.833</td>\n",
       "      <td>0.429</td>\n",
       "      <td>33.886</td>\n",
       "      <td>30.434</td>\n",
       "      <td>4.0</td>\n",
       "      <td>5.0</td>\n",
       "      <td>202416</td>\n",
       "      <td>-3.0</td>\n",
       "      <td>('List, Luke', '202416')</td>\n",
       "    </tr>\n",
       "    <tr>\n",
       "      <th>2</th>\n",
       "      <td>pga</td>\n",
       "      <td>2024</td>\n",
       "      <td>2024</td>\n",
       "      <td>2024-01-07</td>\n",
       "      <td>The Sentry</td>\n",
       "      <td>16</td>\n",
       "      <td>List, Luke</td>\n",
       "      <td>7960</td>\n",
       "      <td>22.0</td>\n",
       "      <td>1</td>\n",
       "      <td>Plantation Course at Kapalua</td>\n",
       "      <td>656</td>\n",
       "      <td>73</td>\n",
       "      <td>1</td>\n",
       "      <td>8:21am</td>\n",
       "      <td>67.0</td>\n",
       "      <td>1.392</td>\n",
       "      <td>0.319</td>\n",
       "      <td>0.794</td>\n",
       "      <td>-0.674</td>\n",
       "      <td>0.439</td>\n",
       "      <td>1.831</td>\n",
       "      <td>308.5</td>\n",
       "      <td>0.533</td>\n",
       "      <td>0.833</td>\n",
       "      <td>0.833</td>\n",
       "      <td>28.782</td>\n",
       "      <td>32.813</td>\n",
       "      <td>4.0</td>\n",
       "      <td>3.0</td>\n",
       "      <td>202416</td>\n",
       "      <td>-6.0</td>\n",
       "      <td>('List, Luke', '202416')</td>\n",
       "    </tr>\n",
       "    <tr>\n",
       "      <th>3</th>\n",
       "      <td>pga</td>\n",
       "      <td>2024</td>\n",
       "      <td>2024</td>\n",
       "      <td>2024-01-07</td>\n",
       "      <td>The Sentry</td>\n",
       "      <td>16</td>\n",
       "      <td>Bhatia, Akshay</td>\n",
       "      <td>26096</td>\n",
       "      <td>14.0</td>\n",
       "      <td>4</td>\n",
       "      <td>Plantation Course at Kapalua</td>\n",
       "      <td>656</td>\n",
       "      <td>73</td>\n",
       "      <td>1</td>\n",
       "      <td>9:45am</td>\n",
       "      <td>71.0</td>\n",
       "      <td>-0.808</td>\n",
       "      <td>-0.380</td>\n",
       "      <td>-1.259</td>\n",
       "      <td>-1.892</td>\n",
       "      <td>-3.531</td>\n",
       "      <td>-4.339</td>\n",
       "      <td>311.6</td>\n",
       "      <td>0.667</td>\n",
       "      <td>0.667</td>\n",
       "      <td>0.750</td>\n",
       "      <td>24.105</td>\n",
       "      <td>28.482</td>\n",
       "      <td>1.0</td>\n",
       "      <td>3.0</td>\n",
       "      <td>202416</td>\n",
       "      <td>-2.0</td>\n",
       "      <td>('Bhatia, Akshay', '202416')</td>\n",
       "    </tr>\n",
       "    <tr>\n",
       "      <th>4</th>\n",
       "      <td>pga</td>\n",
       "      <td>2024</td>\n",
       "      <td>2024</td>\n",
       "      <td>2024-01-07</td>\n",
       "      <td>The Sentry</td>\n",
       "      <td>16</td>\n",
       "      <td>Bhatia, Akshay</td>\n",
       "      <td>26096</td>\n",
       "      <td>14.0</td>\n",
       "      <td>3</td>\n",
       "      <td>Plantation Course at Kapalua</td>\n",
       "      <td>656</td>\n",
       "      <td>73</td>\n",
       "      <td>1</td>\n",
       "      <td>9:09am</td>\n",
       "      <td>66.0</td>\n",
       "      <td>3.427</td>\n",
       "      <td>0.091</td>\n",
       "      <td>-0.358</td>\n",
       "      <td>1.331</td>\n",
       "      <td>1.065</td>\n",
       "      <td>4.492</td>\n",
       "      <td>326.2</td>\n",
       "      <td>0.533</td>\n",
       "      <td>0.833</td>\n",
       "      <td>0.875</td>\n",
       "      <td>27.435</td>\n",
       "      <td>35.239</td>\n",
       "      <td>7.0</td>\n",
       "      <td>1.0</td>\n",
       "      <td>202416</td>\n",
       "      <td>-7.0</td>\n",
       "      <td>('Bhatia, Akshay', '202416')</td>\n",
       "    </tr>\n",
       "  </tbody>\n",
       "</table>\n",
       "</div>"
      ],
      "text/plain": [
       "  tour  year  season event_completed  event_name  event_id     player_name  \\\n",
       "0  pga  2024    2024      2024-01-07  The Sentry        16    Rose, Justin   \n",
       "1  pga  2024    2024      2024-01-07  The Sentry        16      List, Luke   \n",
       "2  pga  2024    2024      2024-01-07  The Sentry        16      List, Luke   \n",
       "3  pga  2024    2024      2024-01-07  The Sentry        16  Bhatia, Akshay   \n",
       "4  pga  2024    2024      2024-01-07  The Sentry        16  Bhatia, Akshay   \n",
       "\n",
       "   dg_id  finish_pos  round_num                   course_name  course_num  \\\n",
       "0   6093        40.0          3  Plantation Course at Kapalua         656   \n",
       "1   7960        22.0          2  Plantation Course at Kapalua         656   \n",
       "2   7960        22.0          1  Plantation Course at Kapalua         656   \n",
       "3  26096        14.0          4  Plantation Course at Kapalua         656   \n",
       "4  26096        14.0          3  Plantation Course at Kapalua         656   \n",
       "\n",
       "   course_par  start_hole  teetime  round_score  sg_putt  sg_arg  sg_app  \\\n",
       "0          73          10   9:21am         75.0   -0.591  -1.327  -1.784   \n",
       "1          73           1  10:27am         70.0   -1.352  -1.963   0.534   \n",
       "2          73           1   8:21am         67.0    1.392   0.319   0.794   \n",
       "3          73           1   9:45am         71.0   -0.808  -0.380  -1.259   \n",
       "4          73           1   9:09am         66.0    3.427   0.091  -0.358   \n",
       "\n",
       "   sg_ott  sg_t2g  sg_total  driving_dist  driving_acc    gir  scrambling  \\\n",
       "0  -0.807  -3.918    -4.508         303.8        0.600  0.833       0.429   \n",
       "1   0.255  -1.174    -2.525         324.1        0.533  0.833       0.429   \n",
       "2  -0.674   0.439     1.831         308.5        0.533  0.833       0.833   \n",
       "3  -1.892  -3.531    -4.339         311.6        0.667  0.667       0.750   \n",
       "4   1.331   1.065     4.492         326.2        0.533  0.833       0.875   \n",
       "\n",
       "   prox_rgh  prox_fw  great_shots  poor_shots  unique_event_id  score_to_par  \\\n",
       "0    16.369   52.203          2.0         4.0           202416           2.0   \n",
       "1    33.886   30.434          4.0         5.0           202416          -3.0   \n",
       "2    28.782   32.813          4.0         3.0           202416          -6.0   \n",
       "3    24.105   28.482          1.0         3.0           202416          -2.0   \n",
       "4    27.435   35.239          7.0         1.0           202416          -7.0   \n",
       "\n",
       "                      loser_key  \n",
       "0    ('Rose, Justin', '202416')  \n",
       "1      ('List, Luke', '202416')  \n",
       "2      ('List, Luke', '202416')  \n",
       "3  ('Bhatia, Akshay', '202416')  \n",
       "4  ('Bhatia, Akshay', '202416')  "
      ]
     },
     "execution_count": 86,
     "metadata": {},
     "output_type": "execute_result"
    }
   ],
   "source": [
    "stats = pd.read_csv(r\"C:\\Users\\mikej\\Desktop\\pga_pressure\\data\\clean_raw_stats.csv\")\n",
    "stats.head()"
   ]
  },
  {
   "cell_type": "code",
   "execution_count": 92,
   "id": "0409a420",
   "metadata": {},
   "outputs": [],
   "source": [
    "stats['event_completed'] = pd.to_datetime(stats['event_completed'])\n",
    "\n",
    "temp = stats[(stats.player_name=='Cantlay, Patrick')].sort_values(by=['event_completed','round_num'],ascending=False).reset_index(drop=True)\n"
   ]
  },
  {
   "cell_type": "code",
   "execution_count": 93,
   "id": "a49c24e6",
   "metadata": {},
   "outputs": [
    {
     "data": {
      "text/html": [
       "<div>\n",
       "<style scoped>\n",
       "    .dataframe tbody tr th:only-of-type {\n",
       "        vertical-align: middle;\n",
       "    }\n",
       "\n",
       "    .dataframe tbody tr th {\n",
       "        vertical-align: top;\n",
       "    }\n",
       "\n",
       "    .dataframe thead th {\n",
       "        text-align: right;\n",
       "    }\n",
       "</style>\n",
       "<table border=\"1\" class=\"dataframe\">\n",
       "  <thead>\n",
       "    <tr style=\"text-align: right;\">\n",
       "      <th></th>\n",
       "      <th>tour</th>\n",
       "      <th>year</th>\n",
       "      <th>season</th>\n",
       "      <th>event_completed</th>\n",
       "      <th>event_name</th>\n",
       "      <th>event_id</th>\n",
       "      <th>player_name</th>\n",
       "      <th>dg_id</th>\n",
       "      <th>finish_pos</th>\n",
       "      <th>round_num</th>\n",
       "      <th>course_name</th>\n",
       "      <th>course_num</th>\n",
       "      <th>course_par</th>\n",
       "      <th>start_hole</th>\n",
       "      <th>teetime</th>\n",
       "      <th>round_score</th>\n",
       "      <th>sg_putt</th>\n",
       "      <th>sg_arg</th>\n",
       "      <th>sg_app</th>\n",
       "      <th>sg_ott</th>\n",
       "      <th>sg_t2g</th>\n",
       "      <th>sg_total</th>\n",
       "      <th>driving_dist</th>\n",
       "      <th>driving_acc</th>\n",
       "      <th>gir</th>\n",
       "      <th>scrambling</th>\n",
       "      <th>prox_rgh</th>\n",
       "      <th>prox_fw</th>\n",
       "      <th>great_shots</th>\n",
       "      <th>poor_shots</th>\n",
       "      <th>unique_event_id</th>\n",
       "      <th>score_to_par</th>\n",
       "      <th>loser_key</th>\n",
       "    </tr>\n",
       "  </thead>\n",
       "  <tbody>\n",
       "    <tr>\n",
       "      <th>0</th>\n",
       "      <td>pga</td>\n",
       "      <td>2024</td>\n",
       "      <td>2024</td>\n",
       "      <td>2024-01-21</td>\n",
       "      <td>The American Express</td>\n",
       "      <td>2</td>\n",
       "      <td>Cantlay, Patrick</td>\n",
       "      <td>15466</td>\n",
       "      <td>52.0</td>\n",
       "      <td>4</td>\n",
       "      <td>Pete Dye Stadium Course</td>\n",
       "      <td>704</td>\n",
       "      <td>72</td>\n",
       "      <td>1</td>\n",
       "      <td>10:26am</td>\n",
       "      <td>76.0</td>\n",
       "      <td>-2.417</td>\n",
       "      <td>-0.646</td>\n",
       "      <td>-3.203</td>\n",
       "      <td>-0.450</td>\n",
       "      <td>-4.299</td>\n",
       "      <td>-6.716</td>\n",
       "      <td>293.2</td>\n",
       "      <td>0.500</td>\n",
       "      <td>0.667</td>\n",
       "      <td>0.571</td>\n",
       "      <td>51.873</td>\n",
       "      <td>36.302</td>\n",
       "      <td>0.0</td>\n",
       "      <td>7.0</td>\n",
       "      <td>20242</td>\n",
       "      <td>4.0</td>\n",
       "      <td>('Cantlay, Patrick', '20242')</td>\n",
       "    </tr>\n",
       "    <tr>\n",
       "      <th>1</th>\n",
       "      <td>pga</td>\n",
       "      <td>2024</td>\n",
       "      <td>2024</td>\n",
       "      <td>2024-01-21</td>\n",
       "      <td>The American Express</td>\n",
       "      <td>2</td>\n",
       "      <td>Cantlay, Patrick</td>\n",
       "      <td>15466</td>\n",
       "      <td>52.0</td>\n",
       "      <td>3</td>\n",
       "      <td>Pete Dye Stadium Course</td>\n",
       "      <td>704</td>\n",
       "      <td>72</td>\n",
       "      <td>1</td>\n",
       "      <td>10:31am</td>\n",
       "      <td>67.0</td>\n",
       "      <td>-0.213</td>\n",
       "      <td>-0.146</td>\n",
       "      <td>0.412</td>\n",
       "      <td>1.274</td>\n",
       "      <td>1.540</td>\n",
       "      <td>1.327</td>\n",
       "      <td>305.6</td>\n",
       "      <td>0.643</td>\n",
       "      <td>0.778</td>\n",
       "      <td>0.625</td>\n",
       "      <td>23.727</td>\n",
       "      <td>26.849</td>\n",
       "      <td>4.0</td>\n",
       "      <td>2.0</td>\n",
       "      <td>20242</td>\n",
       "      <td>-5.0</td>\n",
       "      <td>('Cantlay, Patrick', '20242')</td>\n",
       "    </tr>\n",
       "    <tr>\n",
       "      <th>2</th>\n",
       "      <td>pga</td>\n",
       "      <td>2024</td>\n",
       "      <td>2024</td>\n",
       "      <td>2024-01-21</td>\n",
       "      <td>The American Express</td>\n",
       "      <td>2</td>\n",
       "      <td>Cantlay, Patrick</td>\n",
       "      <td>15466</td>\n",
       "      <td>52.0</td>\n",
       "      <td>2</td>\n",
       "      <td>Nicklaus Tournament Course</td>\n",
       "      <td>233</td>\n",
       "      <td>72</td>\n",
       "      <td>10</td>\n",
       "      <td>8:41am</td>\n",
       "      <td>66.0</td>\n",
       "      <td>NaN</td>\n",
       "      <td>NaN</td>\n",
       "      <td>NaN</td>\n",
       "      <td>NaN</td>\n",
       "      <td>NaN</td>\n",
       "      <td>1.750</td>\n",
       "      <td>NaN</td>\n",
       "      <td>NaN</td>\n",
       "      <td>NaN</td>\n",
       "      <td>NaN</td>\n",
       "      <td>NaN</td>\n",
       "      <td>NaN</td>\n",
       "      <td>NaN</td>\n",
       "      <td>NaN</td>\n",
       "      <td>20242</td>\n",
       "      <td>-6.0</td>\n",
       "      <td>('Cantlay, Patrick', '20242')</td>\n",
       "    </tr>\n",
       "    <tr>\n",
       "      <th>3</th>\n",
       "      <td>pga</td>\n",
       "      <td>2024</td>\n",
       "      <td>2024</td>\n",
       "      <td>2024-01-21</td>\n",
       "      <td>The American Express</td>\n",
       "      <td>2</td>\n",
       "      <td>Cantlay, Patrick</td>\n",
       "      <td>15466</td>\n",
       "      <td>52.0</td>\n",
       "      <td>1</td>\n",
       "      <td>La Quinta Country Club</td>\n",
       "      <td>202</td>\n",
       "      <td>72</td>\n",
       "      <td>1</td>\n",
       "      <td>9:14am</td>\n",
       "      <td>64.0</td>\n",
       "      <td>NaN</td>\n",
       "      <td>NaN</td>\n",
       "      <td>NaN</td>\n",
       "      <td>NaN</td>\n",
       "      <td>NaN</td>\n",
       "      <td>3.519</td>\n",
       "      <td>NaN</td>\n",
       "      <td>NaN</td>\n",
       "      <td>NaN</td>\n",
       "      <td>NaN</td>\n",
       "      <td>NaN</td>\n",
       "      <td>NaN</td>\n",
       "      <td>NaN</td>\n",
       "      <td>NaN</td>\n",
       "      <td>20242</td>\n",
       "      <td>-8.0</td>\n",
       "      <td>('Cantlay, Patrick', '20242')</td>\n",
       "    </tr>\n",
       "    <tr>\n",
       "      <th>4</th>\n",
       "      <td>pga</td>\n",
       "      <td>2024</td>\n",
       "      <td>2024</td>\n",
       "      <td>2024-01-07</td>\n",
       "      <td>The Sentry</td>\n",
       "      <td>16</td>\n",
       "      <td>Cantlay, Patrick</td>\n",
       "      <td>15466</td>\n",
       "      <td>12.0</td>\n",
       "      <td>4</td>\n",
       "      <td>Plantation Course at Kapalua</td>\n",
       "      <td>656</td>\n",
       "      <td>73</td>\n",
       "      <td>1</td>\n",
       "      <td>9:09am</td>\n",
       "      <td>67.0</td>\n",
       "      <td>-0.833</td>\n",
       "      <td>-0.338</td>\n",
       "      <td>-0.154</td>\n",
       "      <td>0.986</td>\n",
       "      <td>0.494</td>\n",
       "      <td>-0.339</td>\n",
       "      <td>318.9</td>\n",
       "      <td>0.667</td>\n",
       "      <td>0.944</td>\n",
       "      <td>0.500</td>\n",
       "      <td>23.873</td>\n",
       "      <td>26.614</td>\n",
       "      <td>0.0</td>\n",
       "      <td>0.0</td>\n",
       "      <td>202416</td>\n",
       "      <td>-6.0</td>\n",
       "      <td>('Cantlay, Patrick', '202416')</td>\n",
       "    </tr>\n",
       "    <tr>\n",
       "      <th>...</th>\n",
       "      <td>...</td>\n",
       "      <td>...</td>\n",
       "      <td>...</td>\n",
       "      <td>...</td>\n",
       "      <td>...</td>\n",
       "      <td>...</td>\n",
       "      <td>...</td>\n",
       "      <td>...</td>\n",
       "      <td>...</td>\n",
       "      <td>...</td>\n",
       "      <td>...</td>\n",
       "      <td>...</td>\n",
       "      <td>...</td>\n",
       "      <td>...</td>\n",
       "      <td>...</td>\n",
       "      <td>...</td>\n",
       "      <td>...</td>\n",
       "      <td>...</td>\n",
       "      <td>...</td>\n",
       "      <td>...</td>\n",
       "      <td>...</td>\n",
       "      <td>...</td>\n",
       "      <td>...</td>\n",
       "      <td>...</td>\n",
       "      <td>...</td>\n",
       "      <td>...</td>\n",
       "      <td>...</td>\n",
       "      <td>...</td>\n",
       "      <td>...</td>\n",
       "      <td>...</td>\n",
       "      <td>...</td>\n",
       "      <td>...</td>\n",
       "      <td>...</td>\n",
       "    </tr>\n",
       "    <tr>\n",
       "      <th>480</th>\n",
       "      <td>pga</td>\n",
       "      <td>2017</td>\n",
       "      <td>2017</td>\n",
       "      <td>2017-03-12</td>\n",
       "      <td>Valspar Championship</td>\n",
       "      <td>475</td>\n",
       "      <td>Cantlay, Patrick</td>\n",
       "      <td>15466</td>\n",
       "      <td>2.0</td>\n",
       "      <td>1</td>\n",
       "      <td>Innisbrook Resort (Copperhead)</td>\n",
       "      <td>665</td>\n",
       "      <td>71</td>\n",
       "      <td>1</td>\n",
       "      <td>9:51am</td>\n",
       "      <td>71.0</td>\n",
       "      <td>-0.705</td>\n",
       "      <td>-0.823</td>\n",
       "      <td>1.010</td>\n",
       "      <td>0.962</td>\n",
       "      <td>1.149</td>\n",
       "      <td>0.444</td>\n",
       "      <td>276.7</td>\n",
       "      <td>0.769</td>\n",
       "      <td>0.722</td>\n",
       "      <td>0.625</td>\n",
       "      <td>55.062</td>\n",
       "      <td>29.422</td>\n",
       "      <td>3.0</td>\n",
       "      <td>3.0</td>\n",
       "      <td>2017475</td>\n",
       "      <td>0.0</td>\n",
       "      <td>('Cantlay, Patrick', '2017475')</td>\n",
       "    </tr>\n",
       "    <tr>\n",
       "      <th>481</th>\n",
       "      <td>pga</td>\n",
       "      <td>2017</td>\n",
       "      <td>2017</td>\n",
       "      <td>2017-02-12</td>\n",
       "      <td>AT&amp;T Pebble Beach Pro-Am</td>\n",
       "      <td>5</td>\n",
       "      <td>Cantlay, Patrick</td>\n",
       "      <td>15466</td>\n",
       "      <td>48.0</td>\n",
       "      <td>4</td>\n",
       "      <td>Pebble Beach GL</td>\n",
       "      <td>5</td>\n",
       "      <td>72</td>\n",
       "      <td>10</td>\n",
       "      <td>8:22am</td>\n",
       "      <td>72.0</td>\n",
       "      <td>-0.097</td>\n",
       "      <td>-0.693</td>\n",
       "      <td>-1.336</td>\n",
       "      <td>0.789</td>\n",
       "      <td>-1.240</td>\n",
       "      <td>-1.338</td>\n",
       "      <td>278.8</td>\n",
       "      <td>0.643</td>\n",
       "      <td>0.556</td>\n",
       "      <td>0.545</td>\n",
       "      <td>27.378</td>\n",
       "      <td>37.355</td>\n",
       "      <td>1.0</td>\n",
       "      <td>4.0</td>\n",
       "      <td>20175</td>\n",
       "      <td>0.0</td>\n",
       "      <td>('Cantlay, Patrick', '20175')</td>\n",
       "    </tr>\n",
       "    <tr>\n",
       "      <th>482</th>\n",
       "      <td>pga</td>\n",
       "      <td>2017</td>\n",
       "      <td>2017</td>\n",
       "      <td>2017-02-12</td>\n",
       "      <td>AT&amp;T Pebble Beach Pro-Am</td>\n",
       "      <td>5</td>\n",
       "      <td>Cantlay, Patrick</td>\n",
       "      <td>15466</td>\n",
       "      <td>48.0</td>\n",
       "      <td>3</td>\n",
       "      <td>Pebble Beach GL</td>\n",
       "      <td>5</td>\n",
       "      <td>72</td>\n",
       "      <td>10</td>\n",
       "      <td>12:12pm</td>\n",
       "      <td>71.0</td>\n",
       "      <td>2.227</td>\n",
       "      <td>-0.838</td>\n",
       "      <td>-2.255</td>\n",
       "      <td>0.690</td>\n",
       "      <td>-2.403</td>\n",
       "      <td>-0.176</td>\n",
       "      <td>265.0</td>\n",
       "      <td>0.857</td>\n",
       "      <td>0.722</td>\n",
       "      <td>0.500</td>\n",
       "      <td>135.839</td>\n",
       "      <td>31.402</td>\n",
       "      <td>2.0</td>\n",
       "      <td>5.0</td>\n",
       "      <td>20175</td>\n",
       "      <td>-1.0</td>\n",
       "      <td>('Cantlay, Patrick', '20175')</td>\n",
       "    </tr>\n",
       "    <tr>\n",
       "      <th>483</th>\n",
       "      <td>pga</td>\n",
       "      <td>2017</td>\n",
       "      <td>2017</td>\n",
       "      <td>2017-02-12</td>\n",
       "      <td>AT&amp;T Pebble Beach Pro-Am</td>\n",
       "      <td>5</td>\n",
       "      <td>Cantlay, Patrick</td>\n",
       "      <td>15466</td>\n",
       "      <td>48.0</td>\n",
       "      <td>2</td>\n",
       "      <td>Spyglass Hill GC</td>\n",
       "      <td>205</td>\n",
       "      <td>72</td>\n",
       "      <td>1</td>\n",
       "      <td>11:14am</td>\n",
       "      <td>71.0</td>\n",
       "      <td>NaN</td>\n",
       "      <td>NaN</td>\n",
       "      <td>NaN</td>\n",
       "      <td>NaN</td>\n",
       "      <td>NaN</td>\n",
       "      <td>-0.471</td>\n",
       "      <td>NaN</td>\n",
       "      <td>NaN</td>\n",
       "      <td>NaN</td>\n",
       "      <td>NaN</td>\n",
       "      <td>NaN</td>\n",
       "      <td>NaN</td>\n",
       "      <td>NaN</td>\n",
       "      <td>NaN</td>\n",
       "      <td>20175</td>\n",
       "      <td>-1.0</td>\n",
       "      <td>('Cantlay, Patrick', '20175')</td>\n",
       "    </tr>\n",
       "    <tr>\n",
       "      <th>484</th>\n",
       "      <td>pga</td>\n",
       "      <td>2017</td>\n",
       "      <td>2017</td>\n",
       "      <td>2017-02-12</td>\n",
       "      <td>AT&amp;T Pebble Beach Pro-Am</td>\n",
       "      <td>5</td>\n",
       "      <td>Cantlay, Patrick</td>\n",
       "      <td>15466</td>\n",
       "      <td>48.0</td>\n",
       "      <td>1</td>\n",
       "      <td>Monterey Peninsula CC</td>\n",
       "      <td>769</td>\n",
       "      <td>71</td>\n",
       "      <td>10</td>\n",
       "      <td>8:28am</td>\n",
       "      <td>70.0</td>\n",
       "      <td>NaN</td>\n",
       "      <td>NaN</td>\n",
       "      <td>NaN</td>\n",
       "      <td>NaN</td>\n",
       "      <td>NaN</td>\n",
       "      <td>2.471</td>\n",
       "      <td>NaN</td>\n",
       "      <td>NaN</td>\n",
       "      <td>NaN</td>\n",
       "      <td>NaN</td>\n",
       "      <td>NaN</td>\n",
       "      <td>NaN</td>\n",
       "      <td>NaN</td>\n",
       "      <td>NaN</td>\n",
       "      <td>20175</td>\n",
       "      <td>-1.0</td>\n",
       "      <td>('Cantlay, Patrick', '20175')</td>\n",
       "    </tr>\n",
       "  </tbody>\n",
       "</table>\n",
       "<p>485 rows × 33 columns</p>\n",
       "</div>"
      ],
      "text/plain": [
       "    tour  year  season event_completed                event_name  event_id  \\\n",
       "0    pga  2024    2024      2024-01-21      The American Express         2   \n",
       "1    pga  2024    2024      2024-01-21      The American Express         2   \n",
       "2    pga  2024    2024      2024-01-21      The American Express         2   \n",
       "3    pga  2024    2024      2024-01-21      The American Express         2   \n",
       "4    pga  2024    2024      2024-01-07                The Sentry        16   \n",
       "..   ...   ...     ...             ...                       ...       ...   \n",
       "480  pga  2017    2017      2017-03-12      Valspar Championship       475   \n",
       "481  pga  2017    2017      2017-02-12  AT&T Pebble Beach Pro-Am         5   \n",
       "482  pga  2017    2017      2017-02-12  AT&T Pebble Beach Pro-Am         5   \n",
       "483  pga  2017    2017      2017-02-12  AT&T Pebble Beach Pro-Am         5   \n",
       "484  pga  2017    2017      2017-02-12  AT&T Pebble Beach Pro-Am         5   \n",
       "\n",
       "          player_name  dg_id  finish_pos  round_num  \\\n",
       "0    Cantlay, Patrick  15466        52.0          4   \n",
       "1    Cantlay, Patrick  15466        52.0          3   \n",
       "2    Cantlay, Patrick  15466        52.0          2   \n",
       "3    Cantlay, Patrick  15466        52.0          1   \n",
       "4    Cantlay, Patrick  15466        12.0          4   \n",
       "..                ...    ...         ...        ...   \n",
       "480  Cantlay, Patrick  15466         2.0          1   \n",
       "481  Cantlay, Patrick  15466        48.0          4   \n",
       "482  Cantlay, Patrick  15466        48.0          3   \n",
       "483  Cantlay, Patrick  15466        48.0          2   \n",
       "484  Cantlay, Patrick  15466        48.0          1   \n",
       "\n",
       "                        course_name  course_num  course_par  start_hole  \\\n",
       "0           Pete Dye Stadium Course         704          72           1   \n",
       "1           Pete Dye Stadium Course         704          72           1   \n",
       "2        Nicklaus Tournament Course         233          72          10   \n",
       "3            La Quinta Country Club         202          72           1   \n",
       "4      Plantation Course at Kapalua         656          73           1   \n",
       "..                              ...         ...         ...         ...   \n",
       "480  Innisbrook Resort (Copperhead)         665          71           1   \n",
       "481                 Pebble Beach GL           5          72          10   \n",
       "482                 Pebble Beach GL           5          72          10   \n",
       "483                Spyglass Hill GC         205          72           1   \n",
       "484           Monterey Peninsula CC         769          71          10   \n",
       "\n",
       "     teetime  round_score  sg_putt  sg_arg  sg_app  sg_ott  sg_t2g  sg_total  \\\n",
       "0    10:26am         76.0   -2.417  -0.646  -3.203  -0.450  -4.299    -6.716   \n",
       "1    10:31am         67.0   -0.213  -0.146   0.412   1.274   1.540     1.327   \n",
       "2     8:41am         66.0      NaN     NaN     NaN     NaN     NaN     1.750   \n",
       "3     9:14am         64.0      NaN     NaN     NaN     NaN     NaN     3.519   \n",
       "4     9:09am         67.0   -0.833  -0.338  -0.154   0.986   0.494    -0.339   \n",
       "..       ...          ...      ...     ...     ...     ...     ...       ...   \n",
       "480   9:51am         71.0   -0.705  -0.823   1.010   0.962   1.149     0.444   \n",
       "481   8:22am         72.0   -0.097  -0.693  -1.336   0.789  -1.240    -1.338   \n",
       "482  12:12pm         71.0    2.227  -0.838  -2.255   0.690  -2.403    -0.176   \n",
       "483  11:14am         71.0      NaN     NaN     NaN     NaN     NaN    -0.471   \n",
       "484   8:28am         70.0      NaN     NaN     NaN     NaN     NaN     2.471   \n",
       "\n",
       "     driving_dist  driving_acc    gir  scrambling  prox_rgh  prox_fw  \\\n",
       "0           293.2        0.500  0.667       0.571    51.873   36.302   \n",
       "1           305.6        0.643  0.778       0.625    23.727   26.849   \n",
       "2             NaN          NaN    NaN         NaN       NaN      NaN   \n",
       "3             NaN          NaN    NaN         NaN       NaN      NaN   \n",
       "4           318.9        0.667  0.944       0.500    23.873   26.614   \n",
       "..            ...          ...    ...         ...       ...      ...   \n",
       "480         276.7        0.769  0.722       0.625    55.062   29.422   \n",
       "481         278.8        0.643  0.556       0.545    27.378   37.355   \n",
       "482         265.0        0.857  0.722       0.500   135.839   31.402   \n",
       "483           NaN          NaN    NaN         NaN       NaN      NaN   \n",
       "484           NaN          NaN    NaN         NaN       NaN      NaN   \n",
       "\n",
       "     great_shots  poor_shots  unique_event_id  score_to_par  \\\n",
       "0            0.0         7.0            20242           4.0   \n",
       "1            4.0         2.0            20242          -5.0   \n",
       "2            NaN         NaN            20242          -6.0   \n",
       "3            NaN         NaN            20242          -8.0   \n",
       "4            0.0         0.0           202416          -6.0   \n",
       "..           ...         ...              ...           ...   \n",
       "480          3.0         3.0          2017475           0.0   \n",
       "481          1.0         4.0            20175           0.0   \n",
       "482          2.0         5.0            20175          -1.0   \n",
       "483          NaN         NaN            20175          -1.0   \n",
       "484          NaN         NaN            20175          -1.0   \n",
       "\n",
       "                           loser_key  \n",
       "0      ('Cantlay, Patrick', '20242')  \n",
       "1      ('Cantlay, Patrick', '20242')  \n",
       "2      ('Cantlay, Patrick', '20242')  \n",
       "3      ('Cantlay, Patrick', '20242')  \n",
       "4     ('Cantlay, Patrick', '202416')  \n",
       "..                               ...  \n",
       "480  ('Cantlay, Patrick', '2017475')  \n",
       "481    ('Cantlay, Patrick', '20175')  \n",
       "482    ('Cantlay, Patrick', '20175')  \n",
       "483    ('Cantlay, Patrick', '20175')  \n",
       "484    ('Cantlay, Patrick', '20175')  \n",
       "\n",
       "[485 rows x 33 columns]"
      ]
     },
     "execution_count": 93,
     "metadata": {},
     "output_type": "execute_result"
    }
   ],
   "source": [
    "temp#.round_score"
   ]
  },
  {
   "cell_type": "code",
   "execution_count": 94,
   "id": "a53c48eb",
   "metadata": {},
   "outputs": [
    {
     "data": {
      "application/vnd.plotly.v1+json": {
       "config": {
        "plotlyServerURL": "https://plot.ly"
       },
       "data": [
        {
         "hovertemplate": "variable=round_score<br>index=%{x}<br>value=%{y}<extra></extra>",
         "legendgroup": "round_score",
         "marker": {
          "color": "#636efa",
          "symbol": "circle"
         },
         "mode": "markers",
         "name": "round_score",
         "orientation": "v",
         "showlegend": true,
         "type": "scatter",
         "x": [
          0,
          1,
          2,
          3,
          4,
          5,
          6,
          7,
          8,
          9,
          10,
          11,
          12,
          13,
          14,
          15,
          16,
          17,
          18,
          19
         ],
         "xaxis": "x",
         "y": [
          76,
          67,
          66,
          64,
          67,
          68,
          68,
          66,
          66,
          68,
          68,
          69,
          67,
          71,
          68,
          68,
          64,
          66,
          67,
          68
         ],
         "yaxis": "y"
        }
       ],
       "layout": {
        "legend": {
         "title": {
          "text": "variable"
         },
         "tracegroupgap": 0
        },
        "margin": {
         "t": 60
        },
        "shapes": [
         {
          "type": "line",
          "x0": 0,
          "x1": 1,
          "xref": "x domain",
          "y0": 71,
          "y1": 71,
          "yref": "y"
         }
        ],
        "template": {
         "data": {
          "bar": [
           {
            "error_x": {
             "color": "#2a3f5f"
            },
            "error_y": {
             "color": "#2a3f5f"
            },
            "marker": {
             "line": {
              "color": "#E5ECF6",
              "width": 0.5
             },
             "pattern": {
              "fillmode": "overlay",
              "size": 10,
              "solidity": 0.2
             }
            },
            "type": "bar"
           }
          ],
          "barpolar": [
           {
            "marker": {
             "line": {
              "color": "#E5ECF6",
              "width": 0.5
             },
             "pattern": {
              "fillmode": "overlay",
              "size": 10,
              "solidity": 0.2
             }
            },
            "type": "barpolar"
           }
          ],
          "carpet": [
           {
            "aaxis": {
             "endlinecolor": "#2a3f5f",
             "gridcolor": "white",
             "linecolor": "white",
             "minorgridcolor": "white",
             "startlinecolor": "#2a3f5f"
            },
            "baxis": {
             "endlinecolor": "#2a3f5f",
             "gridcolor": "white",
             "linecolor": "white",
             "minorgridcolor": "white",
             "startlinecolor": "#2a3f5f"
            },
            "type": "carpet"
           }
          ],
          "choropleth": [
           {
            "colorbar": {
             "outlinewidth": 0,
             "ticks": ""
            },
            "type": "choropleth"
           }
          ],
          "contour": [
           {
            "colorbar": {
             "outlinewidth": 0,
             "ticks": ""
            },
            "colorscale": [
             [
              0,
              "#0d0887"
             ],
             [
              0.1111111111111111,
              "#46039f"
             ],
             [
              0.2222222222222222,
              "#7201a8"
             ],
             [
              0.3333333333333333,
              "#9c179e"
             ],
             [
              0.4444444444444444,
              "#bd3786"
             ],
             [
              0.5555555555555556,
              "#d8576b"
             ],
             [
              0.6666666666666666,
              "#ed7953"
             ],
             [
              0.7777777777777778,
              "#fb9f3a"
             ],
             [
              0.8888888888888888,
              "#fdca26"
             ],
             [
              1,
              "#f0f921"
             ]
            ],
            "type": "contour"
           }
          ],
          "contourcarpet": [
           {
            "colorbar": {
             "outlinewidth": 0,
             "ticks": ""
            },
            "type": "contourcarpet"
           }
          ],
          "heatmap": [
           {
            "colorbar": {
             "outlinewidth": 0,
             "ticks": ""
            },
            "colorscale": [
             [
              0,
              "#0d0887"
             ],
             [
              0.1111111111111111,
              "#46039f"
             ],
             [
              0.2222222222222222,
              "#7201a8"
             ],
             [
              0.3333333333333333,
              "#9c179e"
             ],
             [
              0.4444444444444444,
              "#bd3786"
             ],
             [
              0.5555555555555556,
              "#d8576b"
             ],
             [
              0.6666666666666666,
              "#ed7953"
             ],
             [
              0.7777777777777778,
              "#fb9f3a"
             ],
             [
              0.8888888888888888,
              "#fdca26"
             ],
             [
              1,
              "#f0f921"
             ]
            ],
            "type": "heatmap"
           }
          ],
          "heatmapgl": [
           {
            "colorbar": {
             "outlinewidth": 0,
             "ticks": ""
            },
            "colorscale": [
             [
              0,
              "#0d0887"
             ],
             [
              0.1111111111111111,
              "#46039f"
             ],
             [
              0.2222222222222222,
              "#7201a8"
             ],
             [
              0.3333333333333333,
              "#9c179e"
             ],
             [
              0.4444444444444444,
              "#bd3786"
             ],
             [
              0.5555555555555556,
              "#d8576b"
             ],
             [
              0.6666666666666666,
              "#ed7953"
             ],
             [
              0.7777777777777778,
              "#fb9f3a"
             ],
             [
              0.8888888888888888,
              "#fdca26"
             ],
             [
              1,
              "#f0f921"
             ]
            ],
            "type": "heatmapgl"
           }
          ],
          "histogram": [
           {
            "marker": {
             "pattern": {
              "fillmode": "overlay",
              "size": 10,
              "solidity": 0.2
             }
            },
            "type": "histogram"
           }
          ],
          "histogram2d": [
           {
            "colorbar": {
             "outlinewidth": 0,
             "ticks": ""
            },
            "colorscale": [
             [
              0,
              "#0d0887"
             ],
             [
              0.1111111111111111,
              "#46039f"
             ],
             [
              0.2222222222222222,
              "#7201a8"
             ],
             [
              0.3333333333333333,
              "#9c179e"
             ],
             [
              0.4444444444444444,
              "#bd3786"
             ],
             [
              0.5555555555555556,
              "#d8576b"
             ],
             [
              0.6666666666666666,
              "#ed7953"
             ],
             [
              0.7777777777777778,
              "#fb9f3a"
             ],
             [
              0.8888888888888888,
              "#fdca26"
             ],
             [
              1,
              "#f0f921"
             ]
            ],
            "type": "histogram2d"
           }
          ],
          "histogram2dcontour": [
           {
            "colorbar": {
             "outlinewidth": 0,
             "ticks": ""
            },
            "colorscale": [
             [
              0,
              "#0d0887"
             ],
             [
              0.1111111111111111,
              "#46039f"
             ],
             [
              0.2222222222222222,
              "#7201a8"
             ],
             [
              0.3333333333333333,
              "#9c179e"
             ],
             [
              0.4444444444444444,
              "#bd3786"
             ],
             [
              0.5555555555555556,
              "#d8576b"
             ],
             [
              0.6666666666666666,
              "#ed7953"
             ],
             [
              0.7777777777777778,
              "#fb9f3a"
             ],
             [
              0.8888888888888888,
              "#fdca26"
             ],
             [
              1,
              "#f0f921"
             ]
            ],
            "type": "histogram2dcontour"
           }
          ],
          "mesh3d": [
           {
            "colorbar": {
             "outlinewidth": 0,
             "ticks": ""
            },
            "type": "mesh3d"
           }
          ],
          "parcoords": [
           {
            "line": {
             "colorbar": {
              "outlinewidth": 0,
              "ticks": ""
             }
            },
            "type": "parcoords"
           }
          ],
          "pie": [
           {
            "automargin": true,
            "type": "pie"
           }
          ],
          "scatter": [
           {
            "fillpattern": {
             "fillmode": "overlay",
             "size": 10,
             "solidity": 0.2
            },
            "type": "scatter"
           }
          ],
          "scatter3d": [
           {
            "line": {
             "colorbar": {
              "outlinewidth": 0,
              "ticks": ""
             }
            },
            "marker": {
             "colorbar": {
              "outlinewidth": 0,
              "ticks": ""
             }
            },
            "type": "scatter3d"
           }
          ],
          "scattercarpet": [
           {
            "marker": {
             "colorbar": {
              "outlinewidth": 0,
              "ticks": ""
             }
            },
            "type": "scattercarpet"
           }
          ],
          "scattergeo": [
           {
            "marker": {
             "colorbar": {
              "outlinewidth": 0,
              "ticks": ""
             }
            },
            "type": "scattergeo"
           }
          ],
          "scattergl": [
           {
            "marker": {
             "colorbar": {
              "outlinewidth": 0,
              "ticks": ""
             }
            },
            "type": "scattergl"
           }
          ],
          "scattermapbox": [
           {
            "marker": {
             "colorbar": {
              "outlinewidth": 0,
              "ticks": ""
             }
            },
            "type": "scattermapbox"
           }
          ],
          "scatterpolar": [
           {
            "marker": {
             "colorbar": {
              "outlinewidth": 0,
              "ticks": ""
             }
            },
            "type": "scatterpolar"
           }
          ],
          "scatterpolargl": [
           {
            "marker": {
             "colorbar": {
              "outlinewidth": 0,
              "ticks": ""
             }
            },
            "type": "scatterpolargl"
           }
          ],
          "scatterternary": [
           {
            "marker": {
             "colorbar": {
              "outlinewidth": 0,
              "ticks": ""
             }
            },
            "type": "scatterternary"
           }
          ],
          "surface": [
           {
            "colorbar": {
             "outlinewidth": 0,
             "ticks": ""
            },
            "colorscale": [
             [
              0,
              "#0d0887"
             ],
             [
              0.1111111111111111,
              "#46039f"
             ],
             [
              0.2222222222222222,
              "#7201a8"
             ],
             [
              0.3333333333333333,
              "#9c179e"
             ],
             [
              0.4444444444444444,
              "#bd3786"
             ],
             [
              0.5555555555555556,
              "#d8576b"
             ],
             [
              0.6666666666666666,
              "#ed7953"
             ],
             [
              0.7777777777777778,
              "#fb9f3a"
             ],
             [
              0.8888888888888888,
              "#fdca26"
             ],
             [
              1,
              "#f0f921"
             ]
            ],
            "type": "surface"
           }
          ],
          "table": [
           {
            "cells": {
             "fill": {
              "color": "#EBF0F8"
             },
             "line": {
              "color": "white"
             }
            },
            "header": {
             "fill": {
              "color": "#C8D4E3"
             },
             "line": {
              "color": "white"
             }
            },
            "type": "table"
           }
          ]
         },
         "layout": {
          "annotationdefaults": {
           "arrowcolor": "#2a3f5f",
           "arrowhead": 0,
           "arrowwidth": 1
          },
          "autotypenumbers": "strict",
          "coloraxis": {
           "colorbar": {
            "outlinewidth": 0,
            "ticks": ""
           }
          },
          "colorscale": {
           "diverging": [
            [
             0,
             "#8e0152"
            ],
            [
             0.1,
             "#c51b7d"
            ],
            [
             0.2,
             "#de77ae"
            ],
            [
             0.3,
             "#f1b6da"
            ],
            [
             0.4,
             "#fde0ef"
            ],
            [
             0.5,
             "#f7f7f7"
            ],
            [
             0.6,
             "#e6f5d0"
            ],
            [
             0.7,
             "#b8e186"
            ],
            [
             0.8,
             "#7fbc41"
            ],
            [
             0.9,
             "#4d9221"
            ],
            [
             1,
             "#276419"
            ]
           ],
           "sequential": [
            [
             0,
             "#0d0887"
            ],
            [
             0.1111111111111111,
             "#46039f"
            ],
            [
             0.2222222222222222,
             "#7201a8"
            ],
            [
             0.3333333333333333,
             "#9c179e"
            ],
            [
             0.4444444444444444,
             "#bd3786"
            ],
            [
             0.5555555555555556,
             "#d8576b"
            ],
            [
             0.6666666666666666,
             "#ed7953"
            ],
            [
             0.7777777777777778,
             "#fb9f3a"
            ],
            [
             0.8888888888888888,
             "#fdca26"
            ],
            [
             1,
             "#f0f921"
            ]
           ],
           "sequentialminus": [
            [
             0,
             "#0d0887"
            ],
            [
             0.1111111111111111,
             "#46039f"
            ],
            [
             0.2222222222222222,
             "#7201a8"
            ],
            [
             0.3333333333333333,
             "#9c179e"
            ],
            [
             0.4444444444444444,
             "#bd3786"
            ],
            [
             0.5555555555555556,
             "#d8576b"
            ],
            [
             0.6666666666666666,
             "#ed7953"
            ],
            [
             0.7777777777777778,
             "#fb9f3a"
            ],
            [
             0.8888888888888888,
             "#fdca26"
            ],
            [
             1,
             "#f0f921"
            ]
           ]
          },
          "colorway": [
           "#636efa",
           "#EF553B",
           "#00cc96",
           "#ab63fa",
           "#FFA15A",
           "#19d3f3",
           "#FF6692",
           "#B6E880",
           "#FF97FF",
           "#FECB52"
          ],
          "font": {
           "color": "#2a3f5f"
          },
          "geo": {
           "bgcolor": "white",
           "lakecolor": "white",
           "landcolor": "#E5ECF6",
           "showlakes": true,
           "showland": true,
           "subunitcolor": "white"
          },
          "hoverlabel": {
           "align": "left"
          },
          "hovermode": "closest",
          "mapbox": {
           "style": "light"
          },
          "paper_bgcolor": "white",
          "plot_bgcolor": "#E5ECF6",
          "polar": {
           "angularaxis": {
            "gridcolor": "white",
            "linecolor": "white",
            "ticks": ""
           },
           "bgcolor": "#E5ECF6",
           "radialaxis": {
            "gridcolor": "white",
            "linecolor": "white",
            "ticks": ""
           }
          },
          "scene": {
           "xaxis": {
            "backgroundcolor": "#E5ECF6",
            "gridcolor": "white",
            "gridwidth": 2,
            "linecolor": "white",
            "showbackground": true,
            "ticks": "",
            "zerolinecolor": "white"
           },
           "yaxis": {
            "backgroundcolor": "#E5ECF6",
            "gridcolor": "white",
            "gridwidth": 2,
            "linecolor": "white",
            "showbackground": true,
            "ticks": "",
            "zerolinecolor": "white"
           },
           "zaxis": {
            "backgroundcolor": "#E5ECF6",
            "gridcolor": "white",
            "gridwidth": 2,
            "linecolor": "white",
            "showbackground": true,
            "ticks": "",
            "zerolinecolor": "white"
           }
          },
          "shapedefaults": {
           "line": {
            "color": "#2a3f5f"
           }
          },
          "ternary": {
           "aaxis": {
            "gridcolor": "white",
            "linecolor": "white",
            "ticks": ""
           },
           "baxis": {
            "gridcolor": "white",
            "linecolor": "white",
            "ticks": ""
           },
           "bgcolor": "#E5ECF6",
           "caxis": {
            "gridcolor": "white",
            "linecolor": "white",
            "ticks": ""
           }
          },
          "title": {
           "x": 0.05
          },
          "xaxis": {
           "automargin": true,
           "gridcolor": "white",
           "linecolor": "white",
           "ticks": "",
           "title": {
            "standoff": 15
           },
           "zerolinecolor": "white",
           "zerolinewidth": 2
          },
          "yaxis": {
           "automargin": true,
           "gridcolor": "white",
           "linecolor": "white",
           "ticks": "",
           "title": {
            "standoff": 15
           },
           "zerolinecolor": "white",
           "zerolinewidth": 2
          }
         }
        },
        "xaxis": {
         "anchor": "y",
         "domain": [
          0,
          1
         ],
         "title": {
          "text": "index"
         }
        },
        "yaxis": {
         "anchor": "x",
         "domain": [
          0,
          1
         ],
         "title": {
          "text": "value"
         }
        }
       }
      },
      "text/html": [
       "<div>                            <div id=\"19868fa3-a68c-4773-9d05-45a3fa5ffaad\" class=\"plotly-graph-div\" style=\"height:525px; width:100%;\"></div>            <script type=\"text/javascript\">                require([\"plotly\"], function(Plotly) {                    window.PLOTLYENV=window.PLOTLYENV || {};                                    if (document.getElementById(\"19868fa3-a68c-4773-9d05-45a3fa5ffaad\")) {                    Plotly.newPlot(                        \"19868fa3-a68c-4773-9d05-45a3fa5ffaad\",                        [{\"hovertemplate\":\"variable=round_score<br>index=%{x}<br>value=%{y}<extra></extra>\",\"legendgroup\":\"round_score\",\"marker\":{\"color\":\"#636efa\",\"symbol\":\"circle\"},\"mode\":\"markers\",\"name\":\"round_score\",\"orientation\":\"v\",\"showlegend\":true,\"x\":[0,1,2,3,4,5,6,7,8,9,10,11,12,13,14,15,16,17,18,19],\"xaxis\":\"x\",\"y\":[76.0,67.0,66.0,64.0,67.0,68.0,68.0,66.0,66.0,68.0,68.0,69.0,67.0,71.0,68.0,68.0,64.0,66.0,67.0,68.0],\"yaxis\":\"y\",\"type\":\"scatter\"}],                        {\"template\":{\"data\":{\"histogram2dcontour\":[{\"type\":\"histogram2dcontour\",\"colorbar\":{\"outlinewidth\":0,\"ticks\":\"\"},\"colorscale\":[[0.0,\"#0d0887\"],[0.1111111111111111,\"#46039f\"],[0.2222222222222222,\"#7201a8\"],[0.3333333333333333,\"#9c179e\"],[0.4444444444444444,\"#bd3786\"],[0.5555555555555556,\"#d8576b\"],[0.6666666666666666,\"#ed7953\"],[0.7777777777777778,\"#fb9f3a\"],[0.8888888888888888,\"#fdca26\"],[1.0,\"#f0f921\"]]}],\"choropleth\":[{\"type\":\"choropleth\",\"colorbar\":{\"outlinewidth\":0,\"ticks\":\"\"}}],\"histogram2d\":[{\"type\":\"histogram2d\",\"colorbar\":{\"outlinewidth\":0,\"ticks\":\"\"},\"colorscale\":[[0.0,\"#0d0887\"],[0.1111111111111111,\"#46039f\"],[0.2222222222222222,\"#7201a8\"],[0.3333333333333333,\"#9c179e\"],[0.4444444444444444,\"#bd3786\"],[0.5555555555555556,\"#d8576b\"],[0.6666666666666666,\"#ed7953\"],[0.7777777777777778,\"#fb9f3a\"],[0.8888888888888888,\"#fdca26\"],[1.0,\"#f0f921\"]]}],\"heatmap\":[{\"type\":\"heatmap\",\"colorbar\":{\"outlinewidth\":0,\"ticks\":\"\"},\"colorscale\":[[0.0,\"#0d0887\"],[0.1111111111111111,\"#46039f\"],[0.2222222222222222,\"#7201a8\"],[0.3333333333333333,\"#9c179e\"],[0.4444444444444444,\"#bd3786\"],[0.5555555555555556,\"#d8576b\"],[0.6666666666666666,\"#ed7953\"],[0.7777777777777778,\"#fb9f3a\"],[0.8888888888888888,\"#fdca26\"],[1.0,\"#f0f921\"]]}],\"heatmapgl\":[{\"type\":\"heatmapgl\",\"colorbar\":{\"outlinewidth\":0,\"ticks\":\"\"},\"colorscale\":[[0.0,\"#0d0887\"],[0.1111111111111111,\"#46039f\"],[0.2222222222222222,\"#7201a8\"],[0.3333333333333333,\"#9c179e\"],[0.4444444444444444,\"#bd3786\"],[0.5555555555555556,\"#d8576b\"],[0.6666666666666666,\"#ed7953\"],[0.7777777777777778,\"#fb9f3a\"],[0.8888888888888888,\"#fdca26\"],[1.0,\"#f0f921\"]]}],\"contourcarpet\":[{\"type\":\"contourcarpet\",\"colorbar\":{\"outlinewidth\":0,\"ticks\":\"\"}}],\"contour\":[{\"type\":\"contour\",\"colorbar\":{\"outlinewidth\":0,\"ticks\":\"\"},\"colorscale\":[[0.0,\"#0d0887\"],[0.1111111111111111,\"#46039f\"],[0.2222222222222222,\"#7201a8\"],[0.3333333333333333,\"#9c179e\"],[0.4444444444444444,\"#bd3786\"],[0.5555555555555556,\"#d8576b\"],[0.6666666666666666,\"#ed7953\"],[0.7777777777777778,\"#fb9f3a\"],[0.8888888888888888,\"#fdca26\"],[1.0,\"#f0f921\"]]}],\"surface\":[{\"type\":\"surface\",\"colorbar\":{\"outlinewidth\":0,\"ticks\":\"\"},\"colorscale\":[[0.0,\"#0d0887\"],[0.1111111111111111,\"#46039f\"],[0.2222222222222222,\"#7201a8\"],[0.3333333333333333,\"#9c179e\"],[0.4444444444444444,\"#bd3786\"],[0.5555555555555556,\"#d8576b\"],[0.6666666666666666,\"#ed7953\"],[0.7777777777777778,\"#fb9f3a\"],[0.8888888888888888,\"#fdca26\"],[1.0,\"#f0f921\"]]}],\"mesh3d\":[{\"type\":\"mesh3d\",\"colorbar\":{\"outlinewidth\":0,\"ticks\":\"\"}}],\"scatter\":[{\"fillpattern\":{\"fillmode\":\"overlay\",\"size\":10,\"solidity\":0.2},\"type\":\"scatter\"}],\"parcoords\":[{\"type\":\"parcoords\",\"line\":{\"colorbar\":{\"outlinewidth\":0,\"ticks\":\"\"}}}],\"scatterpolargl\":[{\"type\":\"scatterpolargl\",\"marker\":{\"colorbar\":{\"outlinewidth\":0,\"ticks\":\"\"}}}],\"bar\":[{\"error_x\":{\"color\":\"#2a3f5f\"},\"error_y\":{\"color\":\"#2a3f5f\"},\"marker\":{\"line\":{\"color\":\"#E5ECF6\",\"width\":0.5},\"pattern\":{\"fillmode\":\"overlay\",\"size\":10,\"solidity\":0.2}},\"type\":\"bar\"}],\"scattergeo\":[{\"type\":\"scattergeo\",\"marker\":{\"colorbar\":{\"outlinewidth\":0,\"ticks\":\"\"}}}],\"scatterpolar\":[{\"type\":\"scatterpolar\",\"marker\":{\"colorbar\":{\"outlinewidth\":0,\"ticks\":\"\"}}}],\"histogram\":[{\"marker\":{\"pattern\":{\"fillmode\":\"overlay\",\"size\":10,\"solidity\":0.2}},\"type\":\"histogram\"}],\"scattergl\":[{\"type\":\"scattergl\",\"marker\":{\"colorbar\":{\"outlinewidth\":0,\"ticks\":\"\"}}}],\"scatter3d\":[{\"type\":\"scatter3d\",\"line\":{\"colorbar\":{\"outlinewidth\":0,\"ticks\":\"\"}},\"marker\":{\"colorbar\":{\"outlinewidth\":0,\"ticks\":\"\"}}}],\"scattermapbox\":[{\"type\":\"scattermapbox\",\"marker\":{\"colorbar\":{\"outlinewidth\":0,\"ticks\":\"\"}}}],\"scatterternary\":[{\"type\":\"scatterternary\",\"marker\":{\"colorbar\":{\"outlinewidth\":0,\"ticks\":\"\"}}}],\"scattercarpet\":[{\"type\":\"scattercarpet\",\"marker\":{\"colorbar\":{\"outlinewidth\":0,\"ticks\":\"\"}}}],\"carpet\":[{\"aaxis\":{\"endlinecolor\":\"#2a3f5f\",\"gridcolor\":\"white\",\"linecolor\":\"white\",\"minorgridcolor\":\"white\",\"startlinecolor\":\"#2a3f5f\"},\"baxis\":{\"endlinecolor\":\"#2a3f5f\",\"gridcolor\":\"white\",\"linecolor\":\"white\",\"minorgridcolor\":\"white\",\"startlinecolor\":\"#2a3f5f\"},\"type\":\"carpet\"}],\"table\":[{\"cells\":{\"fill\":{\"color\":\"#EBF0F8\"},\"line\":{\"color\":\"white\"}},\"header\":{\"fill\":{\"color\":\"#C8D4E3\"},\"line\":{\"color\":\"white\"}},\"type\":\"table\"}],\"barpolar\":[{\"marker\":{\"line\":{\"color\":\"#E5ECF6\",\"width\":0.5},\"pattern\":{\"fillmode\":\"overlay\",\"size\":10,\"solidity\":0.2}},\"type\":\"barpolar\"}],\"pie\":[{\"automargin\":true,\"type\":\"pie\"}]},\"layout\":{\"autotypenumbers\":\"strict\",\"colorway\":[\"#636efa\",\"#EF553B\",\"#00cc96\",\"#ab63fa\",\"#FFA15A\",\"#19d3f3\",\"#FF6692\",\"#B6E880\",\"#FF97FF\",\"#FECB52\"],\"font\":{\"color\":\"#2a3f5f\"},\"hovermode\":\"closest\",\"hoverlabel\":{\"align\":\"left\"},\"paper_bgcolor\":\"white\",\"plot_bgcolor\":\"#E5ECF6\",\"polar\":{\"bgcolor\":\"#E5ECF6\",\"angularaxis\":{\"gridcolor\":\"white\",\"linecolor\":\"white\",\"ticks\":\"\"},\"radialaxis\":{\"gridcolor\":\"white\",\"linecolor\":\"white\",\"ticks\":\"\"}},\"ternary\":{\"bgcolor\":\"#E5ECF6\",\"aaxis\":{\"gridcolor\":\"white\",\"linecolor\":\"white\",\"ticks\":\"\"},\"baxis\":{\"gridcolor\":\"white\",\"linecolor\":\"white\",\"ticks\":\"\"},\"caxis\":{\"gridcolor\":\"white\",\"linecolor\":\"white\",\"ticks\":\"\"}},\"coloraxis\":{\"colorbar\":{\"outlinewidth\":0,\"ticks\":\"\"}},\"colorscale\":{\"sequential\":[[0.0,\"#0d0887\"],[0.1111111111111111,\"#46039f\"],[0.2222222222222222,\"#7201a8\"],[0.3333333333333333,\"#9c179e\"],[0.4444444444444444,\"#bd3786\"],[0.5555555555555556,\"#d8576b\"],[0.6666666666666666,\"#ed7953\"],[0.7777777777777778,\"#fb9f3a\"],[0.8888888888888888,\"#fdca26\"],[1.0,\"#f0f921\"]],\"sequentialminus\":[[0.0,\"#0d0887\"],[0.1111111111111111,\"#46039f\"],[0.2222222222222222,\"#7201a8\"],[0.3333333333333333,\"#9c179e\"],[0.4444444444444444,\"#bd3786\"],[0.5555555555555556,\"#d8576b\"],[0.6666666666666666,\"#ed7953\"],[0.7777777777777778,\"#fb9f3a\"],[0.8888888888888888,\"#fdca26\"],[1.0,\"#f0f921\"]],\"diverging\":[[0,\"#8e0152\"],[0.1,\"#c51b7d\"],[0.2,\"#de77ae\"],[0.3,\"#f1b6da\"],[0.4,\"#fde0ef\"],[0.5,\"#f7f7f7\"],[0.6,\"#e6f5d0\"],[0.7,\"#b8e186\"],[0.8,\"#7fbc41\"],[0.9,\"#4d9221\"],[1,\"#276419\"]]},\"xaxis\":{\"gridcolor\":\"white\",\"linecolor\":\"white\",\"ticks\":\"\",\"title\":{\"standoff\":15},\"zerolinecolor\":\"white\",\"automargin\":true,\"zerolinewidth\":2},\"yaxis\":{\"gridcolor\":\"white\",\"linecolor\":\"white\",\"ticks\":\"\",\"title\":{\"standoff\":15},\"zerolinecolor\":\"white\",\"automargin\":true,\"zerolinewidth\":2},\"scene\":{\"xaxis\":{\"backgroundcolor\":\"#E5ECF6\",\"gridcolor\":\"white\",\"linecolor\":\"white\",\"showbackground\":true,\"ticks\":\"\",\"zerolinecolor\":\"white\",\"gridwidth\":2},\"yaxis\":{\"backgroundcolor\":\"#E5ECF6\",\"gridcolor\":\"white\",\"linecolor\":\"white\",\"showbackground\":true,\"ticks\":\"\",\"zerolinecolor\":\"white\",\"gridwidth\":2},\"zaxis\":{\"backgroundcolor\":\"#E5ECF6\",\"gridcolor\":\"white\",\"linecolor\":\"white\",\"showbackground\":true,\"ticks\":\"\",\"zerolinecolor\":\"white\",\"gridwidth\":2}},\"shapedefaults\":{\"line\":{\"color\":\"#2a3f5f\"}},\"annotationdefaults\":{\"arrowcolor\":\"#2a3f5f\",\"arrowhead\":0,\"arrowwidth\":1},\"geo\":{\"bgcolor\":\"white\",\"landcolor\":\"#E5ECF6\",\"subunitcolor\":\"white\",\"showland\":true,\"showlakes\":true,\"lakecolor\":\"white\"},\"title\":{\"x\":0.05},\"mapbox\":{\"style\":\"light\"}}},\"xaxis\":{\"anchor\":\"y\",\"domain\":[0.0,1.0],\"title\":{\"text\":\"index\"}},\"yaxis\":{\"anchor\":\"x\",\"domain\":[0.0,1.0],\"title\":{\"text\":\"value\"}},\"legend\":{\"title\":{\"text\":\"variable\"},\"tracegroupgap\":0},\"margin\":{\"t\":60},\"shapes\":[{\"type\":\"line\",\"x0\":0,\"x1\":1,\"xref\":\"x domain\",\"y0\":71,\"y1\":71,\"yref\":\"y\"}]},                        {\"responsive\": true}                    ).then(function(){\n",
       "                            \n",
       "var gd = document.getElementById('19868fa3-a68c-4773-9d05-45a3fa5ffaad');\n",
       "var x = new MutationObserver(function (mutations, observer) {{\n",
       "        var display = window.getComputedStyle(gd).display;\n",
       "        if (!display || display === 'none') {{\n",
       "            console.log([gd, 'removed!']);\n",
       "            Plotly.purge(gd);\n",
       "            observer.disconnect();\n",
       "        }}\n",
       "}});\n",
       "\n",
       "// Listen for the removal of the full notebook cells\n",
       "var notebookContainer = gd.closest('#notebook-container');\n",
       "if (notebookContainer) {{\n",
       "    x.observe(notebookContainer, {childList: true});\n",
       "}}\n",
       "\n",
       "// Listen for the clearing of the current output cell\n",
       "var outputEl = gd.closest('.output');\n",
       "if (outputEl) {{\n",
       "    x.observe(outputEl, {childList: true});\n",
       "}}\n",
       "\n",
       "                        })                };                });            </script>        </div>"
      ]
     },
     "metadata": {},
     "output_type": "display_data"
    }
   ],
   "source": [
    "px.scatter(temp.round_score[:20]).add_hline(y=71)"
   ]
  },
  {
   "cell_type": "code",
   "execution_count": null,
   "id": "7a3ad2e3",
   "metadata": {},
   "outputs": [],
   "source": []
  }
 ],
 "metadata": {
  "kernelspec": {
   "display_name": "Python 3 (ipykernel)",
   "language": "python",
   "name": "python3"
  },
  "language_info": {
   "codemirror_mode": {
    "name": "ipython",
    "version": 3
   },
   "file_extension": ".py",
   "mimetype": "text/x-python",
   "name": "python",
   "nbconvert_exporter": "python",
   "pygments_lexer": "ipython3",
   "version": "3.11.5"
  }
 },
 "nbformat": 4,
 "nbformat_minor": 5
}

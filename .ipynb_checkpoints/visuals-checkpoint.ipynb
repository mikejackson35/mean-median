{
 "cells": [
  {
   "cell_type": "code",
   "execution_count": 6,
   "id": "e67d7d04",
   "metadata": {},
   "outputs": [],
   "source": [
    "import plotly.graph_objects as go\n",
    "import pandas as pd\n",
    "import numpy as np\n",
    "import plotly.express as px\n",
    "import seaborn as sns\n",
    "import matplotlib.pyplot as plt\n",
    "from plotly.subplots import make_subplots\n",
    "from utils import get_rec_table_skinny, get_rec_table_skinny2, get_rec_table_wide, get_player_scatter_vertical, get_player_scatter_horizontal\n",
    "# import nfl_data_py as nfl\n",
    "\n",
    "import warnings\n",
    "warnings.filterwarnings('ignore')"
   ]
  },
  {
   "cell_type": "code",
   "execution_count": 7,
   "id": "7ff2c209",
   "metadata": {},
   "outputs": [],
   "source": [
    "all_data = pd.read_csv(r\"data\\final_data.csv\")"
   ]
  },
  {
   "cell_type": "code",
   "execution_count": null,
   "id": "e2fc0e0b",
   "metadata": {},
   "outputs": [],
   "source": [
    "player_list = list(all_data.player_display_name.sort_values().unique())\n",
    "# player_list"
   ]
  },
  {
   "cell_type": "code",
   "execution_count": 8,
   "id": "404eb77d",
   "metadata": {},
   "outputs": [],
   "source": [
    "###  SELECTBOX\n",
    "\n",
    "player = 'Travis Kelce'  # from selectbox\n",
    "all_data = all_data.astype({'season': int})\n",
    "\n",
    "player_all = all_data[(all_data.player_display_name==player)].reset_index(drop=True)\n",
    "player_season = player_all[player_all.season==2023].reset_index(drop=True)\n",
    "player_season2 = player_all[player_all.season > 2021].reset_index(drop=True)\n",
    "\n",
    "line = (player_all.pp_line.mean() + player_all.ud_line.mean())/2\n",
    "title = f\"{player_all.player_display_name[0]}\"\n"
   ]
  },
  {
   "cell_type": "code",
   "execution_count": 5,
   "id": "aae043f0",
   "metadata": {},
   "outputs": [
    {
     "ename": "KeyError",
     "evalue": "\"[',receiving_yards'] not in index\"",
     "output_type": "error",
     "traceback": [
      "\u001b[1;31m---------------------------------------------------------------------------\u001b[0m",
      "\u001b[1;31mKeyError\u001b[0m                                  Traceback (most recent call last)",
      "Cell \u001b[1;32mIn[5], line 1\u001b[0m\n\u001b[1;32m----> 1\u001b[0m get_rec_table_wide(player_season[player_season\u001b[38;5;241m.\u001b[39mbook_stat\u001b[38;5;241m==\u001b[39m\u001b[38;5;124m'\u001b[39m\u001b[38;5;124mreceiving_yards\u001b[39m\u001b[38;5;124m'\u001b[39m])\u001b[38;5;241m.\u001b[39mstyle\u001b[38;5;241m.\u001b[39mhide(axis\u001b[38;5;241m=\u001b[39m\u001b[38;5;124m\"\u001b[39m\u001b[38;5;124mindex\u001b[39m\u001b[38;5;124m\"\u001b[39m)\u001b[38;5;241m.\u001b[39mformat(precision\u001b[38;5;241m=\u001b[39m\u001b[38;5;241m0\u001b[39m)\n",
      "File \u001b[1;32m~\\Desktop\\mean-median\\utils.py:45\u001b[0m, in \u001b[0;36mget_rec_table_wide\u001b[1;34m(player_season)\u001b[0m\n\u001b[0;32m     44\u001b[0m \u001b[38;5;28;01mdef\u001b[39;00m \u001b[38;5;21mget_rec_table_wide\u001b[39m(player_season):\n\u001b[1;32m---> 45\u001b[0m     rec_table_wide \u001b[38;5;241m=\u001b[39m player_season[player_season\u001b[38;5;241m.\u001b[39mbook_stat\u001b[38;5;241m==\u001b[39m\u001b[38;5;124m'\u001b[39m\u001b[38;5;124mreceiving_yards\u001b[39m\u001b[38;5;124m'\u001b[39m][[\u001b[38;5;124m'\u001b[39m\u001b[38;5;124mweek\u001b[39m\u001b[38;5;124m'\u001b[39m,\u001b[38;5;124m'\u001b[39m\u001b[38;5;124m,receiving_yards\u001b[39m\u001b[38;5;124m'\u001b[39m,\u001b[38;5;124m'\u001b[39m\u001b[38;5;124mtargets\u001b[39m\u001b[38;5;124m'\u001b[39m,\u001b[38;5;124m'\u001b[39m\u001b[38;5;124mreceptions\u001b[39m\u001b[38;5;124m'\u001b[39m,\u001b[38;5;124m'\u001b[39m\u001b[38;5;124mreceiving_tds\u001b[39m\u001b[38;5;124m'\u001b[39m]]\u001b[38;5;241m.\u001b[39msort_values(by\u001b[38;5;241m=\u001b[39m\u001b[38;5;124m'\u001b[39m\u001b[38;5;124mweek\u001b[39m\u001b[38;5;124m'\u001b[39m,ascending\u001b[38;5;241m=\u001b[39m\u001b[38;5;28;01mFalse\u001b[39;00m)\u001b[38;5;241m.\u001b[39mreset_index(drop\u001b[38;5;241m=\u001b[39m\u001b[38;5;28;01mTrue\u001b[39;00m) \n\u001b[0;32m     46\u001b[0m     \u001b[38;5;28;01mreturn\u001b[39;00m rec_table_wide\n",
      "File \u001b[1;32m~\\anaconda3\\Lib\\site-packages\\pandas\\core\\frame.py:3899\u001b[0m, in \u001b[0;36mDataFrame.__getitem__\u001b[1;34m(self, key)\u001b[0m\n\u001b[0;32m   3897\u001b[0m     \u001b[38;5;28;01mif\u001b[39;00m is_iterator(key):\n\u001b[0;32m   3898\u001b[0m         key \u001b[38;5;241m=\u001b[39m \u001b[38;5;28mlist\u001b[39m(key)\n\u001b[1;32m-> 3899\u001b[0m     indexer \u001b[38;5;241m=\u001b[39m \u001b[38;5;28mself\u001b[39m\u001b[38;5;241m.\u001b[39mcolumns\u001b[38;5;241m.\u001b[39m_get_indexer_strict(key, \u001b[38;5;124m\"\u001b[39m\u001b[38;5;124mcolumns\u001b[39m\u001b[38;5;124m\"\u001b[39m)[\u001b[38;5;241m1\u001b[39m]\n\u001b[0;32m   3901\u001b[0m \u001b[38;5;66;03m# take() does not accept boolean indexers\u001b[39;00m\n\u001b[0;32m   3902\u001b[0m \u001b[38;5;28;01mif\u001b[39;00m \u001b[38;5;28mgetattr\u001b[39m(indexer, \u001b[38;5;124m\"\u001b[39m\u001b[38;5;124mdtype\u001b[39m\u001b[38;5;124m\"\u001b[39m, \u001b[38;5;28;01mNone\u001b[39;00m) \u001b[38;5;241m==\u001b[39m \u001b[38;5;28mbool\u001b[39m:\n",
      "File \u001b[1;32m~\\anaconda3\\Lib\\site-packages\\pandas\\core\\indexes\\base.py:6115\u001b[0m, in \u001b[0;36mIndex._get_indexer_strict\u001b[1;34m(self, key, axis_name)\u001b[0m\n\u001b[0;32m   6112\u001b[0m \u001b[38;5;28;01melse\u001b[39;00m:\n\u001b[0;32m   6113\u001b[0m     keyarr, indexer, new_indexer \u001b[38;5;241m=\u001b[39m \u001b[38;5;28mself\u001b[39m\u001b[38;5;241m.\u001b[39m_reindex_non_unique(keyarr)\n\u001b[1;32m-> 6115\u001b[0m \u001b[38;5;28mself\u001b[39m\u001b[38;5;241m.\u001b[39m_raise_if_missing(keyarr, indexer, axis_name)\n\u001b[0;32m   6117\u001b[0m keyarr \u001b[38;5;241m=\u001b[39m \u001b[38;5;28mself\u001b[39m\u001b[38;5;241m.\u001b[39mtake(indexer)\n\u001b[0;32m   6118\u001b[0m \u001b[38;5;28;01mif\u001b[39;00m \u001b[38;5;28misinstance\u001b[39m(key, Index):\n\u001b[0;32m   6119\u001b[0m     \u001b[38;5;66;03m# GH 42790 - Preserve name from an Index\u001b[39;00m\n",
      "File \u001b[1;32m~\\anaconda3\\Lib\\site-packages\\pandas\\core\\indexes\\base.py:6179\u001b[0m, in \u001b[0;36mIndex._raise_if_missing\u001b[1;34m(self, key, indexer, axis_name)\u001b[0m\n\u001b[0;32m   6176\u001b[0m     \u001b[38;5;28;01mraise\u001b[39;00m \u001b[38;5;167;01mKeyError\u001b[39;00m(\u001b[38;5;124mf\u001b[39m\u001b[38;5;124m\"\u001b[39m\u001b[38;5;124mNone of [\u001b[39m\u001b[38;5;132;01m{\u001b[39;00mkey\u001b[38;5;132;01m}\u001b[39;00m\u001b[38;5;124m] are in the [\u001b[39m\u001b[38;5;132;01m{\u001b[39;00maxis_name\u001b[38;5;132;01m}\u001b[39;00m\u001b[38;5;124m]\u001b[39m\u001b[38;5;124m\"\u001b[39m)\n\u001b[0;32m   6178\u001b[0m not_found \u001b[38;5;241m=\u001b[39m \u001b[38;5;28mlist\u001b[39m(ensure_index(key)[missing_mask\u001b[38;5;241m.\u001b[39mnonzero()[\u001b[38;5;241m0\u001b[39m]]\u001b[38;5;241m.\u001b[39munique())\n\u001b[1;32m-> 6179\u001b[0m \u001b[38;5;28;01mraise\u001b[39;00m \u001b[38;5;167;01mKeyError\u001b[39;00m(\u001b[38;5;124mf\u001b[39m\u001b[38;5;124m\"\u001b[39m\u001b[38;5;132;01m{\u001b[39;00mnot_found\u001b[38;5;132;01m}\u001b[39;00m\u001b[38;5;124m not in index\u001b[39m\u001b[38;5;124m\"\u001b[39m)\n",
      "\u001b[1;31mKeyError\u001b[0m: \"[',receiving_yards'] not in index\""
     ]
    }
   ],
   "source": [
    "get_rec_table_wide(player_season[player_season.book_stat=='receiving_yards']).style.hide(axis=\"index\").format(precision=0)"
   ]
  },
  {
   "cell_type": "code",
   "execution_count": 9,
   "id": "c9f0f459",
   "metadata": {},
   "outputs": [
    {
     "ename": "KeyError",
     "evalue": "\"[',receiving_yards'] not in index\"",
     "output_type": "error",
     "traceback": [
      "\u001b[1;31m---------------------------------------------------------------------------\u001b[0m",
      "\u001b[1;31mKeyError\u001b[0m                                  Traceback (most recent call last)",
      "Cell \u001b[1;32mIn[9], line 1\u001b[0m\n\u001b[1;32m----> 1\u001b[0m table \u001b[38;5;241m=\u001b[39m get_rec_table_wide(player_season[player_season\u001b[38;5;241m.\u001b[39mbook_stat\u001b[38;5;241m==\u001b[39m\u001b[38;5;124m'\u001b[39m\u001b[38;5;124mreceiving_yards\u001b[39m\u001b[38;5;124m'\u001b[39m])\u001b[38;5;241m.\u001b[39mstyle\u001b[38;5;241m.\u001b[39mset_table_styles([\u001b[38;5;28mdict\u001b[39m(selector\u001b[38;5;241m=\u001b[39m\u001b[38;5;124m'\u001b[39m\u001b[38;5;124mth\u001b[39m\u001b[38;5;124m'\u001b[39m, props\u001b[38;5;241m=\u001b[39m[(\u001b[38;5;124m'\u001b[39m\u001b[38;5;124mtext-align\u001b[39m\u001b[38;5;124m'\u001b[39m, \u001b[38;5;124m'\u001b[39m\u001b[38;5;124mcenter\u001b[39m\u001b[38;5;124m'\u001b[39m)])])\u001b[38;5;241m.\u001b[39mformat(precision\u001b[38;5;241m=\u001b[39m\u001b[38;5;241m0\u001b[39m)\u001b[38;5;241m.\u001b[39mhide(axis\u001b[38;5;241m=\u001b[39m\u001b[38;5;124m\"\u001b[39m\u001b[38;5;124mindex\u001b[39m\u001b[38;5;124m\"\u001b[39m)\n\u001b[0;32m      2\u001b[0m table \u001b[38;5;241m=\u001b[39m table\u001b[38;5;241m.\u001b[39mset_properties(\u001b[38;5;241m*\u001b[39m\u001b[38;5;241m*\u001b[39m{\u001b[38;5;124m'\u001b[39m\u001b[38;5;124mtext-align\u001b[39m\u001b[38;5;124m'\u001b[39m: \u001b[38;5;124m'\u001b[39m\u001b[38;5;124mcenter\u001b[39m\u001b[38;5;124m'\u001b[39m})\n\u001b[0;32m      7\u001b[0m table\n",
      "File \u001b[1;32m~\\Desktop\\mean-median\\utils.py:45\u001b[0m, in \u001b[0;36mget_rec_table_wide\u001b[1;34m(player_season)\u001b[0m\n\u001b[0;32m     44\u001b[0m \u001b[38;5;28;01mdef\u001b[39;00m \u001b[38;5;21mget_rec_table_wide\u001b[39m(player_season):\n\u001b[1;32m---> 45\u001b[0m     rec_table_wide \u001b[38;5;241m=\u001b[39m player_season[player_season\u001b[38;5;241m.\u001b[39mbook_stat\u001b[38;5;241m==\u001b[39m\u001b[38;5;124m'\u001b[39m\u001b[38;5;124mreceiving_yards\u001b[39m\u001b[38;5;124m'\u001b[39m][[\u001b[38;5;124m'\u001b[39m\u001b[38;5;124mweek\u001b[39m\u001b[38;5;124m'\u001b[39m,\u001b[38;5;124m'\u001b[39m\u001b[38;5;124m,receiving_yards\u001b[39m\u001b[38;5;124m'\u001b[39m,\u001b[38;5;124m'\u001b[39m\u001b[38;5;124mtargets\u001b[39m\u001b[38;5;124m'\u001b[39m,\u001b[38;5;124m'\u001b[39m\u001b[38;5;124mreceptions\u001b[39m\u001b[38;5;124m'\u001b[39m,\u001b[38;5;124m'\u001b[39m\u001b[38;5;124mreceiving_tds\u001b[39m\u001b[38;5;124m'\u001b[39m]]\u001b[38;5;241m.\u001b[39msort_values(by\u001b[38;5;241m=\u001b[39m\u001b[38;5;124m'\u001b[39m\u001b[38;5;124mweek\u001b[39m\u001b[38;5;124m'\u001b[39m,ascending\u001b[38;5;241m=\u001b[39m\u001b[38;5;28;01mFalse\u001b[39;00m)\u001b[38;5;241m.\u001b[39mreset_index(drop\u001b[38;5;241m=\u001b[39m\u001b[38;5;28;01mTrue\u001b[39;00m) \n\u001b[0;32m     46\u001b[0m     \u001b[38;5;28;01mreturn\u001b[39;00m rec_table_wide\n",
      "File \u001b[1;32m~\\anaconda3\\Lib\\site-packages\\pandas\\core\\frame.py:3899\u001b[0m, in \u001b[0;36mDataFrame.__getitem__\u001b[1;34m(self, key)\u001b[0m\n\u001b[0;32m   3897\u001b[0m     \u001b[38;5;28;01mif\u001b[39;00m is_iterator(key):\n\u001b[0;32m   3898\u001b[0m         key \u001b[38;5;241m=\u001b[39m \u001b[38;5;28mlist\u001b[39m(key)\n\u001b[1;32m-> 3899\u001b[0m     indexer \u001b[38;5;241m=\u001b[39m \u001b[38;5;28mself\u001b[39m\u001b[38;5;241m.\u001b[39mcolumns\u001b[38;5;241m.\u001b[39m_get_indexer_strict(key, \u001b[38;5;124m\"\u001b[39m\u001b[38;5;124mcolumns\u001b[39m\u001b[38;5;124m\"\u001b[39m)[\u001b[38;5;241m1\u001b[39m]\n\u001b[0;32m   3901\u001b[0m \u001b[38;5;66;03m# take() does not accept boolean indexers\u001b[39;00m\n\u001b[0;32m   3902\u001b[0m \u001b[38;5;28;01mif\u001b[39;00m \u001b[38;5;28mgetattr\u001b[39m(indexer, \u001b[38;5;124m\"\u001b[39m\u001b[38;5;124mdtype\u001b[39m\u001b[38;5;124m\"\u001b[39m, \u001b[38;5;28;01mNone\u001b[39;00m) \u001b[38;5;241m==\u001b[39m \u001b[38;5;28mbool\u001b[39m:\n",
      "File \u001b[1;32m~\\anaconda3\\Lib\\site-packages\\pandas\\core\\indexes\\base.py:6115\u001b[0m, in \u001b[0;36mIndex._get_indexer_strict\u001b[1;34m(self, key, axis_name)\u001b[0m\n\u001b[0;32m   6112\u001b[0m \u001b[38;5;28;01melse\u001b[39;00m:\n\u001b[0;32m   6113\u001b[0m     keyarr, indexer, new_indexer \u001b[38;5;241m=\u001b[39m \u001b[38;5;28mself\u001b[39m\u001b[38;5;241m.\u001b[39m_reindex_non_unique(keyarr)\n\u001b[1;32m-> 6115\u001b[0m \u001b[38;5;28mself\u001b[39m\u001b[38;5;241m.\u001b[39m_raise_if_missing(keyarr, indexer, axis_name)\n\u001b[0;32m   6117\u001b[0m keyarr \u001b[38;5;241m=\u001b[39m \u001b[38;5;28mself\u001b[39m\u001b[38;5;241m.\u001b[39mtake(indexer)\n\u001b[0;32m   6118\u001b[0m \u001b[38;5;28;01mif\u001b[39;00m \u001b[38;5;28misinstance\u001b[39m(key, Index):\n\u001b[0;32m   6119\u001b[0m     \u001b[38;5;66;03m# GH 42790 - Preserve name from an Index\u001b[39;00m\n",
      "File \u001b[1;32m~\\anaconda3\\Lib\\site-packages\\pandas\\core\\indexes\\base.py:6179\u001b[0m, in \u001b[0;36mIndex._raise_if_missing\u001b[1;34m(self, key, indexer, axis_name)\u001b[0m\n\u001b[0;32m   6176\u001b[0m     \u001b[38;5;28;01mraise\u001b[39;00m \u001b[38;5;167;01mKeyError\u001b[39;00m(\u001b[38;5;124mf\u001b[39m\u001b[38;5;124m\"\u001b[39m\u001b[38;5;124mNone of [\u001b[39m\u001b[38;5;132;01m{\u001b[39;00mkey\u001b[38;5;132;01m}\u001b[39;00m\u001b[38;5;124m] are in the [\u001b[39m\u001b[38;5;132;01m{\u001b[39;00maxis_name\u001b[38;5;132;01m}\u001b[39;00m\u001b[38;5;124m]\u001b[39m\u001b[38;5;124m\"\u001b[39m)\n\u001b[0;32m   6178\u001b[0m not_found \u001b[38;5;241m=\u001b[39m \u001b[38;5;28mlist\u001b[39m(ensure_index(key)[missing_mask\u001b[38;5;241m.\u001b[39mnonzero()[\u001b[38;5;241m0\u001b[39m]]\u001b[38;5;241m.\u001b[39munique())\n\u001b[1;32m-> 6179\u001b[0m \u001b[38;5;28;01mraise\u001b[39;00m \u001b[38;5;167;01mKeyError\u001b[39;00m(\u001b[38;5;124mf\u001b[39m\u001b[38;5;124m\"\u001b[39m\u001b[38;5;132;01m{\u001b[39;00mnot_found\u001b[38;5;132;01m}\u001b[39;00m\u001b[38;5;124m not in index\u001b[39m\u001b[38;5;124m\"\u001b[39m)\n",
      "\u001b[1;31mKeyError\u001b[0m: \"[',receiving_yards'] not in index\""
     ]
    }
   ],
   "source": [
    "table = get_rec_table_wide(player_season[player_season.book_stat=='receiving_yards']).style.set_table_styles([dict(selector='th', props=[('text-align', 'center')])]).format(precision=0).hide(axis=\"index\")\n",
    "table = table.set_properties(**{'text-align': 'center'})\n",
    "\n",
    "\n",
    "\n",
    "\n",
    "table"
   ]
  },
  {
   "cell_type": "code",
   "execution_count": null,
   "id": "537fea6f",
   "metadata": {},
   "outputs": [],
   "source": [
    "get_rec_table_skinny(player_season[player_season.book_stat=='receiving_yards']).style.hide(axis=\"index\").format(precision=0)"
   ]
  },
  {
   "cell_type": "code",
   "execution_count": null,
   "id": "54a4d4b6",
   "metadata": {},
   "outputs": [],
   "source": [
    "fig = get_player_scatter_vertical(player_season[player_season.book_stat=='receiving_yards'])\n",
    "fig"
   ]
  },
  {
   "cell_type": "code",
   "execution_count": null,
   "id": "0cc14cfb",
   "metadata": {},
   "outputs": [],
   "source": [
    "player_season[player_season.book_stat=='receiving_yards']"
   ]
  },
  {
   "cell_type": "code",
   "execution_count": null,
   "id": "6831f328",
   "metadata": {},
   "outputs": [],
   "source": [
    "# SCATTER PLOT  (POSSIBLE LIGHT OPTION)\n",
    "\n",
    "fig = px.scatter(player_season[player_season.book_stat=='receiving_yards'],\n",
    "          x='targets',\n",
    "          y='receiving_yards',\n",
    "          size='week',\n",
    "          color='week',\n",
    "          template='plotly_white',\n",
    "          size_max=15,\n",
    "          width=300,\n",
    "          height=600,\n",
    "          color_continuous_scale='blues',\n",
    "          title = f\"{player_all.player_display_name[0]}<br><b><span style='color:yellow'>{player_all.ud_line.mean()}</span><br><span style='color:purple'>{player_all.pp_line.mean()}</span><br>\",\n",
    "          labels={'receiving_yards':'Receiving Yards','targets':'Targets'})\n",
    "fig.update_coloraxes(showscale=False)\n",
    "fig.add_hline(y=player_all.ud_line.mean(), line_width=2, line_color=\"yellow\")\n",
    "fig.add_hline(y=player_all.pp_line.mean(), line_width=2, line_color=\"purple\")\n",
    "fig.update_layout(title_x=0.5)"
   ]
  },
  {
   "cell_type": "code",
   "execution_count": null,
   "id": "2886d8f8",
   "metadata": {},
   "outputs": [],
   "source": [
    "##   go.Table skinny\n",
    "\n",
    "skinny = get_rec_table_skinny(player_season[player_season.book_stat=='receiving_yards'])\n",
    "\n",
    "fig = go.Figure(data = [go.Table(header = dict(values = ['<br><b>Week</b>', '<b>Rec<br>Yards</b>'],\n",
    "                                               align = \"center\"),\n",
    "                                 cells = dict(values = [skinny.week, skinny.receiving_yards],\n",
    "                                              align = \"center\",\n",
    "                                               font = dict(color = \"darkslategrey\", size = 11, family = 'Courier New')))])\n",
    " \n",
    "fig.update_layout(width=275, height=600)\n",
    "table1 = fig\n",
    "fig.show()"
   ]
  },
  {
   "cell_type": "code",
   "execution_count": null,
   "id": "6f19d667",
   "metadata": {
    "scrolled": false
   },
   "outputs": [],
   "source": [
    "##   go.Table wide\n",
    "\n",
    "wide = get_rec_table_wide(player_season[player_season.book_stat=='receiving_yards'])\n",
    "\n",
    "fig = go.Figure(data = [go.Table(columnwidth = [.7,1,.7,1,1],\n",
    "                                 header = dict(values = ['<b>Week</b>','<b>Targets</b>','<b>Rec</b>','<b>Rec TDs</b>'],\n",
    "                                               align = \"center\",\n",
    "                                               font = dict(size=10, color='black')),\n",
    "                                 cells = dict(values = [wide.week, wide.targets, wide.receptions, wide.receiving_tds],\n",
    "                                              align = \"center\",\n",
    "                                              font = dict(color = \"darkslategrey\", size = 13, family = 'Courier New')))])\n",
    " \n",
    "fig.update_layout(width=550, height=600)\n",
    "table2 = fig\n",
    "fig.show()"
   ]
  },
  {
   "cell_type": "code",
   "execution_count": null,
   "id": "7592f828",
   "metadata": {},
   "outputs": [],
   "source": [
    "player_season2.head()"
   ]
  },
  {
   "cell_type": "code",
   "execution_count": null,
   "id": "addbbc7f",
   "metadata": {},
   "outputs": [],
   "source": [
    "## ONE PLAYER Receiving Yards Distribution (PLOTLY)\n",
    "\n",
    "hist_fig = px.histogram(player_season2[player_season2.book_stat=='receiving_yards'],#[player_df.season > 2021].reset_index(drop=True),# & (nfl.season == 2023)],\n",
    "            x='receiving_yards',\n",
    "            barmode='stack',\n",
    "            nbins=30,\n",
    "            template='simple_white',\n",
    "            text_auto='true',\n",
    "            color='season',\n",
    "            width = 700,\n",
    "            height = 400,\n",
    "            title=title\n",
    "            )\n",
    "hist_fig.show()"
   ]
  },
  {
   "cell_type": "code",
   "execution_count": null,
   "id": "d9b40819",
   "metadata": {},
   "outputs": [],
   "source": [
    "###################################################################################\n",
    "## ECDF Plot (Plotly) last 2 seasons\n",
    "\n",
    "fig_ecdf = px.ecdf(player_season2[player_season2.book_stat=='receiving_yards'], y=\"receiving_yards\", color=\"season\",template='ggplot2',title=title,width=400)#,title=f\"<b></b><br>Mean: {round(np.mean(chase.receiving_yards),1)} Median {np.median(chase.receiving_yards)}<br>Underdog Line: {chase.ud_line.mean()}<br><br>\",width=600)#  Mean Projection: {round(chase.etr_proj.mean(),1)}<br><br>\",width=600)\n",
    "fig_ecdf.add_hline(y=line, line_width=3, line_color=\"yellow\")\n",
    "fig_ecdf.add_hline(y=player_season['receiving_yards'].mean(), line_width=2, line_color=\"black\")\n",
    "fig_ecdf.add_hline(y=player_season.receiving_yards.median(), line_width=2, line_color=\"red\")\n",
    "fig_ecdf.show()"
   ]
  },
  {
   "cell_type": "code",
   "execution_count": null,
   "id": "d03c0bf3",
   "metadata": {
    "scrolled": false
   },
   "outputs": [],
   "source": [
    "#####################################################################################\n",
    "## Histogram w/ KDE line\n",
    "\n",
    "### distplot with kde line\n",
    "sns.histplot(player_season2[player_season2.book_stat=='receiving_yards'].receiving_yards,bins=20,kde=True,color='olive').set(title=title)\n",
    "sns.set(rc={\"figure.figsize\":(5, 3)})\n",
    "plt.axvline(np.median(player_season2.receiving_yards).round(0),linestyle='solid',color='black')\n",
    "plt.axvline(line,linestyle='solid',color='yellow')"
   ]
  },
  {
   "cell_type": "code",
   "execution_count": null,
   "id": "8fe9719c",
   "metadata": {
    "scrolled": false
   },
   "outputs": [],
   "source": [
    "## Histogram w/ KDE line (hue=season)\n",
    "\n",
    "sns.histplot(player_season2[player_season2.book_stat=='receiving_yards'], x=\"receiving_yards\", hue=\"season\",bins=20, kde=True).set(title=title)\n",
    "sns.set(rc={\"figure.figsize\":( 5, 3)})\n",
    "plt.axvline(line,linestyle='solid',color='yellow')\n",
    "plt.axvline(player_season2['receiving_yards'].median(),linestyle='solid',color='black')"
   ]
  },
  {
   "cell_type": "code",
   "execution_count": null,
   "id": "a138d984",
   "metadata": {
    "scrolled": false
   },
   "outputs": [],
   "source": [
    "## ECDF Plot (matplotlib) last 2 seasons\n",
    "\n",
    "sns.displot(data=player_season2[player_season2.book_stat=='receiving_yards'], x=\"receiving_yards\", kind=\"ecdf\", hue='season').set(title=title)\n",
    "sns.set(rc={\"figure.figsize\":( 5, 3)})\n",
    "plt.axvline(np.median(player_season.receiving_yards).round(0),linestyle='solid',color='black')\n",
    "plt.axvline(line,linestyle='solid',color='yellow')\n",
    "#     plt.show()"
   ]
  },
  {
   "cell_type": "code",
   "execution_count": null,
   "id": "9aa2ed81",
   "metadata": {},
   "outputs": [],
   "source": [
    "player_season2[player_season2.book_stat=='receiving_yards']"
   ]
  },
  {
   "cell_type": "code",
   "execution_count": null,
   "id": "5ea2baae",
   "metadata": {},
   "outputs": [],
   "source": [
    "##  Horizontal scatter (showing last 2 seasons)\n",
    "\n",
    "get_player_scatter_horizontal(player_season2[player_season2.book_stat=='receiving_yards'])"
   ]
  },
  {
   "cell_type": "code",
   "execution_count": null,
   "id": "61503add",
   "metadata": {},
   "outputs": [],
   "source": []
  },
  {
   "cell_type": "code",
   "execution_count": null,
   "id": "4d5bede4",
   "metadata": {},
   "outputs": [],
   "source": [
    "from plotly.subplots import make_subplots\n",
    "\n",
    "fig = make_subplots(\n",
    "    rows=1,\n",
    "    cols=2,\n",
    "    shared_xaxes=False,\n",
    "    vertical_spacing=0.03,\n",
    "    specs=[[{\"type\": \"scatter\"}, {\"type\": \"table\"}]],\n",
    ")\n",
    "\n",
    "temp = player_season[player_season.book_stat=='receiving_yards'][['week','receiving_yards','book_stat']]\n",
    "# skinny_scatter = get_player_scatter_vertical(player_season)\n",
    "# skinny_table = get_rec_table_skinny2(temp)\n",
    "# HERE IS THE PX.SCATTER PLOT (commented out since i cannot add it)\n",
    "for t in px.scatter(player_season,x='targets',y='receiving_yards',title='titel').data:\n",
    "    fig.add_trace(t, row=1, col=1)\n",
    "\n",
    "fig.add_trace(\n",
    "    go.Table(\n",
    "        header = dict(values = ['<br><b>Week</b>', '<b>Rec<br>Yards</b>'], align = \"center\"),\n",
    "        cells = dict(\n",
    "            values = [\n",
    "                temp.week, \n",
    "                temp.receiving_yards,\n",
    "            ],\n",
    "            align = \"center\",\n",
    "        ),\n",
    "    ),\n",
    "    row=1,\n",
    "    col=2,\n",
    ")\n",
    "fig.show()\n",
    "\n",
    "\n",
    "#     go.Table(\n",
    "#         header=dict(values=['week','receiving_yards'], font=dict(size=10), align=\"left\"),\n",
    "#         cells=dict(\n",
    "#             values=[\n",
    "#                 temp.week,\n",
    "#                 temp.receiving_yards,\n",
    "#             ],\n",
    "#             fill_color=\"lavender\",\n",
    "#             align=\"left\",\n",
    "#         ),\n",
    "#     ),\n",
    "#     row=1,\n",
    "#     col=2,\n",
    "# )"
   ]
  },
  {
   "cell_type": "code",
   "execution_count": null,
   "id": "66d7356d",
   "metadata": {},
   "outputs": [],
   "source": [
    "get_multifig(player_season)"
   ]
  },
  {
   "cell_type": "code",
   "execution_count": null,
   "id": "b149c7f2",
   "metadata": {},
   "outputs": [],
   "source": []
  }
 ],
 "metadata": {
  "kernelspec": {
   "display_name": "Python 3 (ipykernel)",
   "language": "python",
   "name": "python3"
  },
  "language_info": {
   "codemirror_mode": {
    "name": "ipython",
    "version": 3
   },
   "file_extension": ".py",
   "mimetype": "text/x-python",
   "name": "python",
   "nbconvert_exporter": "python",
   "pygments_lexer": "ipython3",
   "version": "3.11.5"
  }
 },
 "nbformat": 4,
 "nbformat_minor": 5
}
